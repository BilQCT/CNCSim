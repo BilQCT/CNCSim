{
 "cells": [
  {
   "cell_type": "code",
   "execution_count": 1,
   "metadata": {},
   "outputs": [],
   "source": [
    "# suppress qiskit 1.0 deprecation warnings:\n",
    "import warnings\n",
    "import numpy as np\n",
    "\n",
    "# Suppress all warnings\n",
    "warnings.filterwarnings(\"ignore\")\n",
    "\n",
    "# Example code that raises warnings\n",
    "warnings.warn(\"This is a warning!\")\n",
    "\n",
    "from qiskit import QuantumCircuit, Aer, execute\n",
    "import compile_keys as keys\n",
    "import qcm_sim as sim"
   ]
  },
  {
   "cell_type": "code",
   "execution_count": 2,
   "metadata": {},
   "outputs": [
    {
     "name": "stdout",
     "output_type": "stream",
     "text": [
      "     ┌───┐          ┌───┐┌───┐               ┌───┐          ┌───┐┌───┐┌───┐»\n",
      "q_0: ┤ H ├───────■──┤ S ├┤ S ├──■─────────■──┤ H ├───────■──┤ S ├┤ S ├┤ H ├»\n",
      "     ├───┤       │  └───┘├───┤┌─┴─┐┌───┐  │  ├───┤┌───┐  │  └───┘├───┤└───┘»\n",
      "q_1: ┤ H ├───────┼────■──┤ H ├┤ X ├┤ H ├──■──┤ S ├┤ S ├──┼────■──┤ H ├─────»\n",
      "     ├───┤       │    │  └───┘└───┘└───┘  │  ├───┤└───┘  │  ┌─┴─┐├───┤┌───┐»\n",
      "q_2: ┤ H ├───────┼────┼────■──────────────■──┤ H ├───────┼──┤ X ├┤ H ├┤ H ├»\n",
      "     ├───┤┌───┐┌─┴─┐  │    │  ┌───┐┌───┐┌───┐└───┘     ┌─┴─┐├───┤├───┤├───┤»\n",
      "q_3: ┤ H ├┤ H ├┤ X ├──┼────┼──┤ H ├┤ H ├┤ H ├──────────┤ X ├┤ H ├┤ S ├┤ S ├»\n",
      "     ├───┤├───┤└───┘┌─┴─┐  │  ├───┤├───┤├───┤          └───┘└───┘└───┘└───┘»\n",
      "q_4: ┤ H ├┤ H ├─────┤ X ├──┼──┤ H ├┤ H ├┤ H ├──────────────────────────────»\n",
      "     ├───┤├───┤     └───┘┌─┴─┐├───┤├───┤├───┤                              »\n",
      "q_5: ┤ H ├┤ H ├──────────┤ X ├┤ H ├┤ H ├┤ H ├──────────────────────────────»\n",
      "     └───┘└───┘          └───┘└───┘└───┘└───┘                              »\n",
      "c: 6/══════════════════════════════════════════════════════════════════════»\n",
      "                                                                           »\n",
      "«                    ┌─┐                                                    »\n",
      "«q_0: ───────────────┤M├────────────────────────────────────────────────────»\n",
      "«          ┌───┐┌───┐└╥┘┌───┐          ┌─┐                                  »\n",
      "«q_1: ──■──┤ S ├┤ S ├─╫─┤ H ├──────────┤M├──────────────────────────────────»\n",
      "«       │  └───┘└───┘ ║ ├───┤┌───┐┌───┐└╥┘   ┌─┐                            »\n",
      "«q_2: ──┼─────────■───╫─┤ S ├┤ S ├┤ H ├─╫────┤M├────────────────────────────»\n",
      "«       │         │   ║ └───┘└───┘└───┘ ║    └╥┘┌───┐┌───┐┌───┐     ┌─┐     »\n",
      "«q_3: ──┼─────────┼───╫────────■────────╫──■──╫─┤ S ├┤ S ├┤ H ├─────┤M├─────»\n",
      "«     ┌─┴─┐┌───┐  │   ║ ┌───┐┌─┴─┐┌───┐ ║  │  ║ ├───┤├───┤└───┘┌───┐└╥┘┌───┐»\n",
      "«q_4: ┤ X ├┤ H ├──┼───╫─┤ H ├┤ X ├┤ H ├─╫──■──╫─┤ S ├┤ S ├──■──┤ S ├─╫─┤ S ├»\n",
      "«     └───┘└───┘┌─┴─┐ ║ ├───┤└───┘└───┘ ║  │  ║ ├───┤└───┘┌─┴─┐├───┤ ║ ├───┤»\n",
      "«q_5: ──────────┤ X ├─╫─┤ H ├───────────╫──■──╫─┤ H ├─────┤ X ├┤ H ├─╫─┤ S ├»\n",
      "«               └───┘ ║ └───┘           ║     ║ └───┘     └───┘└───┘ ║ └───┘»\n",
      "«c: 6/════════════════╩═════════════════╩═════╩══════════════════════╩══════»\n",
      "«                     0                 1     2                      3      »\n",
      "«                     \n",
      "«q_0: ────────────────\n",
      "«                     \n",
      "«q_1: ────────────────\n",
      "«                     \n",
      "«q_2: ────────────────\n",
      "«                     \n",
      "«q_3: ────────────────\n",
      "«     ┌───┐     ┌─┐   \n",
      "«q_4: ┤ H ├─────┤M├───\n",
      "«     ├───┤┌───┐└╥┘┌─┐\n",
      "«q_5: ┤ S ├┤ H ├─╫─┤M├\n",
      "«     └───┘└───┘ ║ └╥┘\n",
      "«c: 6/═══════════╩══╩═\n",
      "«                4  5 \n"
     ]
    }
   ],
   "source": [
    "# import circuits:\n",
    "import circuits.hidden_shift as hshift \n",
    "import circuits.ccz_7T_decomposition as ccz\n",
    "\n",
    "m = 3\n",
    "n = 2*m\n",
    "\n",
    "# Generate a random hidden shift\n",
    "shift = [np.random.choice(2) for _ in range(n)]\n",
    "\n",
    "# create qiskit circuit\n",
    "qc = hshift.hidden_shift(3,shift,is_clifford = False)\n",
    "\n",
    "print(qc)"
   ]
  },
  {
   "cell_type": "code",
   "execution_count": 3,
   "metadata": {},
   "outputs": [
    {
     "data": {
      "text/plain": [
       "{'111111': 1024}"
      ]
     },
     "execution_count": 3,
     "metadata": {},
     "output_type": "execute_result"
    }
   ],
   "source": [
    "# Qiskit simulation\n",
    "simulator = Aer.get_backend('qasm_simulator')\n",
    "job = execute(qc, simulator, shots=1024)\n",
    "result = job.result()\n",
    "counts = result.get_counts()\n",
    "\n",
    "counts"
   ]
  },
  {
   "cell_type": "code",
   "execution_count": 4,
   "metadata": {},
   "outputs": [
    {
     "data": {
      "text/plain": [
       "1025140.4576274069"
      ]
     },
     "execution_count": 4,
     "metadata": {},
     "output_type": "execute_result"
    }
   ],
   "source": [
    "# Decompose ccz gates as t gates\n",
    "qc_w_ccz_decomposition = ccz.apply_ccz_via_7t_decomposition(qc)\n",
    "qc_w_ccz_decomposition_qasm = qc_w_ccz_decomposition.qasm()\n",
    "\n",
    "# number of samples:\n",
    "negativity = keys.compute_total_negativity(14)\n",
    "epsilon = 0.1\n",
    "prob_fail = 0.01\n",
    "hoeffding_samples = (negativity**2) * (2 / (epsilon**2)) * np.log(2 / prob_fail)\n",
    "\n",
    "hoeffding_samples"
   ]
  },
  {
   "cell_type": "code",
   "execution_count": 5,
   "metadata": {},
   "outputs": [
    {
     "name": "stdout",
     "output_type": "stream",
     "text": [
      "\n",
      "Hidden Shift: [1, 1, 1, 1, 1, 1]\n",
      "\n",
      "------------------------------\n",
      "Initial conditions for simulation:\n",
      "------------------------------\n",
      "\n",
      "Negativity:\n",
      " 31.103388466421812\n",
      "\n",
      "Number of shots:\n",
      " 51257\n",
      "\n",
      "------------------------------\n",
      "Outputs of Simulation:\n",
      "------------------------------\n",
      "\n",
      "Average time per shot: 0.002233 seconds\n",
      "\n",
      "Distinct Outcome: (1, 1, 1, 0, 0, 0)\n",
      "Born Rule Estimate: -0.04065641955197668\n",
      "\n",
      "Distinct Outcome: (1, 1, 1, 1, 0, 1)\n",
      "Born Rule Estimate: -0.03519510946290519\n",
      "\n",
      "Distinct Outcome: (1, 1, 1, 1, 1, 0)\n",
      "Born Rule Estimate: 0.04369048071257196\n",
      "\n",
      "Distinct Outcome: (1, 1, 1, 0, 1, 1)\n",
      "Born Rule Estimate: -0.01577711803509543\n",
      "\n",
      "Distinct Outcome: (1, 1, 1, 1, 0, 0)\n",
      "Born Rule Estimate: 0.011529432410262044\n",
      "\n",
      "Distinct Outcome: (1, 1, 1, 0, 0, 1)\n",
      "Born Rule Estimate: -0.06250165990826266\n",
      "\n",
      "Distinct Outcome: (1, 1, 1, 0, 1, 0)\n",
      "Born Rule Estimate: -0.006674934553309604\n",
      "\n",
      "Distinct Outcome: (1, 1, 1, 1, 1, 1)\n",
      "Born Rule Estimate: 0.9326704007669875\n",
      "\n"
     ]
    }
   ],
   "source": [
    "# Shift string\n",
    "print(f\"\\nHidden Shift: {shift}\\n\")\n",
    "\n",
    "# QCM simulation\n",
    "results = sim.run_qcm(qc_w_ccz_decomposition_qasm,shots=hoeffding_samples/20)"
   ]
  },
  {
   "cell_type": "code",
   "execution_count": null,
   "metadata": {},
   "outputs": [],
   "source": []
  }
 ],
 "metadata": {
  "kernelspec": {
   "display_name": "env3.10",
   "language": "python",
   "name": "python3"
  },
  "language_info": {
   "codemirror_mode": {
    "name": "ipython",
    "version": 3
   },
   "file_extension": ".py",
   "mimetype": "text/x-python",
   "name": "python",
   "nbconvert_exporter": "python",
   "pygments_lexer": "ipython3",
   "version": "3.10.13"
  }
 },
 "nbformat": 4,
 "nbformat_minor": 2
}
