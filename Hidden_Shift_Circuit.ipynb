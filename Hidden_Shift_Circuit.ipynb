{
 "cells": [
  {
   "cell_type": "code",
   "execution_count": 1,
   "metadata": {},
   "outputs": [],
   "source": [
    "# suppress qiskit 1.0 deprecation warnings:\n",
    "import warnings\n",
    "import numpy as np\n",
    "\n",
    "# Suppress all warnings\n",
    "warnings.filterwarnings(\"ignore\")\n",
    "\n",
    "# Example code that raises warnings\n",
    "warnings.warn(\"This is a warning!\")\n",
    "\n",
    "from qiskit import QuantumCircuit, Aer, execute\n",
    "import src.qcm_sim as sim\n",
    "import src.compile_keys as keys\n",
    "\n",
    "# import circuits:\n",
    "import circuits.hidden_shift as hshift "
   ]
  },
  {
   "cell_type": "code",
   "execution_count": 2,
   "metadata": {},
   "outputs": [
    {
     "name": "stdout",
     "output_type": "stream",
     "text": [
      "     ┌───┐                                                                 »\n",
      "q_0: ┤ H ├───────■───────────────────────────────────────■─────────────────»\n",
      "     ├───┤       │                                       │            ┌───┐»\n",
      "q_1: ┤ H ├───────┼────■─────────■────────────────────────┼─────────■──┤ S ├»\n",
      "     ├───┤       │    │       ┌─┴─┐┌───┐┌───┐┌───┐┌───┐┌─┴─┐┌───┐┌─┴─┐├───┤»\n",
      "q_2: ┤ H ├───────┼────┼────■──┤ X ├┤ S ├┤ S ├┤ S ├┤ T ├┤ X ├┤ T ├┤ X ├┤ S ├»\n",
      "     ├───┤┌───┐┌─┴─┐  │    │  ├───┤├───┤├───┤└───┘└───┘└───┘└───┘└───┘└───┘»\n",
      "q_3: ┤ H ├┤ H ├┤ X ├──┼────┼──┤ H ├┤ H ├┤ H ├──────────────────────────────»\n",
      "     ├───┤├───┤└───┘┌─┴─┐  │  ├───┤├───┤├───┤                              »\n",
      "q_4: ┤ H ├┤ H ├─────┤ X ├──┼──┤ H ├┤ H ├┤ H ├──────────────────────────────»\n",
      "     ├───┤├───┤     └───┘┌─┴─┐├───┤├───┤├───┤                              »\n",
      "q_5: ┤ H ├┤ H ├──────────┤ X ├┤ H ├┤ H ├┤ H ├──────────────────────────────»\n",
      "     └───┘└───┘          └───┘└───┘└───┘└───┘                              »\n",
      "c: 6/══════════════════════════════════════════════════════════════════════»\n",
      "                                                                           »\n",
      "«                                                       ┌───┐┌───┐     ┌───┐»\n",
      "«q_0: ─────────────────■────■────────────────────────■──┤ T ├┤ H ├──■──┤ S ├»\n",
      "«     ┌───┐┌───┐┌───┐  │  ┌─┴─┐┌───┐┌───┐┌───┐┌───┐┌─┴─┐├───┤├───┤  │  └───┘»\n",
      "«q_1: ┤ S ├┤ S ├┤ T ├──┼──┤ X ├┤ S ├┤ S ├┤ S ├┤ T ├┤ X ├┤ S ├┤ H ├──┼────■──»\n",
      "«     ├───┤├───┤├───┤┌─┴─┐├───┤├───┤└───┘├───┤├───┤├───┤└┬─┬┘└───┘  │    │  »\n",
      "«q_2: ┤ S ├┤ S ├┤ T ├┤ X ├┤ T ├┤ H ├──■──┤ S ├┤ S ├┤ H ├─┤M├────────┼────┼──»\n",
      "«     └───┘└───┘└───┘└───┘└───┘└───┘  │  └───┘└───┘└───┘ └╥┘      ┌─┴─┐  │  »\n",
      "«q_3: ────────────────────────────────┼───────────────────╫───────┤ X ├──┼──»\n",
      "«                                     │                   ║       └───┘┌─┴─┐»\n",
      "«q_4: ────────────────────────────────┼───────────────────╫────────────┤ X ├»\n",
      "«                                   ┌─┴─┐┌───┐            ║            └───┘»\n",
      "«q_5: ──────────────────────────────┤ X ├┤ H ├────────────╫─────────────────»\n",
      "«                                   └───┘└───┘            ║                 »\n",
      "«c: 6/════════════════════════════════════════════════════╩═════════════════»\n",
      "«                                                         2                 »\n",
      "«     ┌───┐┌───┐          ┌─┐                                                »\n",
      "«q_0: ┤ S ├┤ H ├──────────┤M├────────────────────────────────────────────────»\n",
      "«     ├───┤├───┤┌───┐     └╥┘┌─┐                                             »\n",
      "«q_1: ┤ S ├┤ S ├┤ H ├──────╫─┤M├─────────────────────────────────────────────»\n",
      "«     └───┘└───┘└───┘      ║ └╥┘                                             »\n",
      "«q_2: ─────────────────────╫──╫──────────────────────────────────────────────»\n",
      "«     ┌───┐                ║  ║                                              »\n",
      "«q_3: ┤ H ├────────────────╫──╫─────────────■────────────────────────────────»\n",
      "«     ├───┤                ║  ║             │            ┌───┐┌───┐┌───┐┌───┐»\n",
      "«q_4: ┤ H ├──■─────────────╫──╫─────────────┼─────────■──┤ S ├┤ S ├┤ S ├┤ T ├»\n",
      "«     └───┘┌─┴─┐┌───┐┌───┐ ║  ║ ┌───┐┌───┐┌─┴─┐┌───┐┌─┴─┐├───┤├───┤├───┤├───┤»\n",
      "«q_5: ─────┤ X ├┤ S ├┤ S ├─╫──╫─┤ S ├┤ T ├┤ X ├┤ T ├┤ X ├┤ S ├┤ S ├┤ S ├┤ T ├»\n",
      "«          └───┘└───┘└───┘ ║  ║ └───┘└───┘└───┘└───┘└───┘└───┘└───┘└───┘└───┘»\n",
      "«c: 6/═════════════════════╩══╩══════════════════════════════════════════════»\n",
      "«                          0  1                                              »\n",
      "«                                                                  \n",
      "«q_0: ─────────────────────────────────────────────────────────────\n",
      "«                                                                  \n",
      "«q_1: ─────────────────────────────────────────────────────────────\n",
      "«                                                                  \n",
      "«q_2: ─────────────────────────────────────────────────────────────\n",
      "«                                        ┌───┐┌───┐┌───┐┌───┐┌─┐   \n",
      "«q_3: ──■────■────────────────────────■──┤ T ├┤ S ├┤ S ├┤ H ├┤M├───\n",
      "«       │  ┌─┴─┐┌───┐┌───┐┌───┐┌───┐┌─┴─┐├───┤├───┤├───┤├───┤└╥┘┌─┐\n",
      "«q_4: ──┼──┤ X ├┤ S ├┤ S ├┤ S ├┤ T ├┤ X ├┤ S ├┤ S ├┤ S ├┤ H ├─╫─┤M├\n",
      "«     ┌─┴─┐├───┤├───┤├───┤├───┤└┬─┬┘└───┘└───┘└───┘└───┘└───┘ ║ └╥┘\n",
      "«q_5: ┤ X ├┤ T ├┤ S ├┤ S ├┤ H ├─┤M├───────────────────────────╫──╫─\n",
      "«     └───┘└───┘└───┘└───┘└───┘ └╥┘                           ║  ║ \n",
      "«c: 6/═══════════════════════════╩════════════════════════════╩══╩═\n",
      "«                                5                            3  4 \n"
     ]
    }
   ],
   "source": [
    "m = 3\n",
    "n = 2*m\n",
    "c = int(m/3)\n",
    "\n",
    "# Generate a random hidden shift\n",
    "shift = [1 for _ in range(n)]\n",
    "\n",
    "# create qiskit circuit\n",
    "qc = hshift.hidden_shift(n,c,shift,is_clifford = False)\n",
    "qc_qasm = qc.qasm()\n",
    "\n",
    "print(qc)"
   ]
  },
  {
   "cell_type": "code",
   "execution_count": 3,
   "metadata": {},
   "outputs": [
    {
     "data": {
      "text/plain": [
       "{'111111': 1024}"
      ]
     },
     "execution_count": 3,
     "metadata": {},
     "output_type": "execute_result"
    }
   ],
   "source": [
    "# Qiskit simulation\n",
    "simulator = Aer.get_backend('qasm_simulator')\n",
    "job = execute(qc, simulator, shots=1024)\n",
    "result = job.result()\n",
    "counts = result.get_counts()\n",
    "\n",
    "counts"
   ]
  },
  {
   "cell_type": "code",
   "execution_count": 5,
   "metadata": {},
   "outputs": [
    {
     "data": {
      "text/plain": [
       "1025140"
      ]
     },
     "execution_count": 5,
     "metadata": {},
     "output_type": "execute_result"
    }
   ],
   "source": [
    "# number of samples:\n",
    "number_of_t_gates = 2*7*c\n",
    "epsilon = 0.1\n",
    "prob_fail = 0.01\n",
    "hoeffding_samples = keys.compute_hoeffding_samples(number_of_t_gates,epsilon,prob_fail)\n",
    "\n",
    "hoeffding_samples"
   ]
  },
  {
   "cell_type": "code",
   "execution_count": 7,
   "metadata": {},
   "outputs": [
    {
     "name": "stdout",
     "output_type": "stream",
     "text": [
      "\n",
      "Hidden Shift: [1, 1, 1, 1, 1, 1]\n",
      "\n",
      "------------------------------\n",
      "Initial conditions for simulation:\n",
      "------------------------------\n",
      "\n",
      "Negativity:\n",
      " 31.103388466421812\n",
      "\n",
      "Number of shots:\n",
      " 1025140\n",
      "\n",
      "------------------------------\n",
      "Outputs of Simulation:\n",
      "------------------------------\n",
      "\n",
      "Average time per shot: 0.004978 seconds\n",
      "\n",
      "Distinct Outcome: (1, 1, 1, 0, 0, 0)\n",
      "Born Rule Estimate: 0.005157906275525009\n",
      "\n",
      "Distinct Outcome: (1, 1, 1, 1, 0, 1)\n",
      "Born Rule Estimate: -0.009102187545044134\n",
      "\n",
      "Distinct Outcome: (1, 1, 1, 1, 1, 0)\n",
      "Born Rule Estimate: 0.021905931358406214\n",
      "\n",
      "Distinct Outcome: (1, 1, 1, 0, 1, 1)\n",
      "Born Rule Estimate: 0.0016383937581079442\n",
      "\n",
      "Distinct Outcome: (1, 1, 1, 1, 0, 0)\n",
      "Born Rule Estimate: 0.014684862572671204\n",
      "\n",
      "Distinct Outcome: (1, 1, 1, 0, 0, 1)\n",
      "Born Rule Estimate: 0.0017597562587085326\n",
      "\n",
      "Distinct Outcome: (1, 1, 1, 0, 1, 0)\n",
      "Born Rule Estimate: 0.0099820656743984\n",
      "\n",
      "Distinct Outcome: (1, 1, 1, 1, 1, 1)\n",
      "Born Rule Estimate: 1.0040016268435181\n",
      "\n"
     ]
    }
   ],
   "source": [
    "# Shift string\n",
    "print(f\"\\nHidden Shift: {shift}\\n\")\n",
    "\n",
    "# QCM simulation\n",
    "results = sim.run_qcm(qc_qasm,shots=hoeffding_samples)"
   ]
  },
  {
   "cell_type": "code",
   "execution_count": null,
   "metadata": {},
   "outputs": [],
   "source": []
  }
 ],
 "metadata": {
  "kernelspec": {
   "display_name": "env3.10",
   "language": "python",
   "name": "python3"
  },
  "language_info": {
   "codemirror_mode": {
    "name": "ipython",
    "version": 3
   },
   "file_extension": ".py",
   "mimetype": "text/x-python",
   "name": "python",
   "nbconvert_exporter": "python",
   "pygments_lexer": "ipython3",
   "version": "3.10.13"
  }
 },
 "nbformat": 4,
 "nbformat_minor": 2
}
