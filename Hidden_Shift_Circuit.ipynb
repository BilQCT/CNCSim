{
 "cells": [
  {
   "cell_type": "code",
   "execution_count": null,
   "metadata": {},
   "outputs": [],
   "source": [
    "# suppress qiskit 1.0 deprecation warnings:\n",
    "import warnings\n",
    "import numpy as np\n",
    "\n",
    "# Suppress all warnings\n",
    "warnings.filterwarnings(\"ignore\")\n",
    "\n",
    "# Example code that raises warnings\n",
    "warnings.warn(\"This is a warning!\")\n",
    "\n",
    "from qiskit import QuantumCircuit, Aer, execute\n",
    "import src.qcm_sim as sim\n",
    "import src.compile_keys as keys\n",
    "\n",
    "# import circuits:\n",
    "import circuits.hidden_shift as hshift "
   ]
  },
  {
   "cell_type": "code",
   "execution_count": null,
   "metadata": {},
   "outputs": [],
   "source": [
    "m = 3\n",
    "n = 2*m\n",
    "c = int(m/3)\n",
    "\n",
    "# Generate a random hidden shift\n",
    "shift = [1 for _ in range(n)]\n",
    "\n",
    "# create qiskit circuit\n",
    "qc = hshift.hidden_shift(n,c,shift,is_clifford = False)\n",
    "qc_qasm = qc.qasm()\n",
    "\n",
    "print(qc)"
   ]
  },
  {
   "cell_type": "code",
   "execution_count": null,
   "metadata": {},
   "outputs": [],
   "source": [
    "# Qiskit simulation\n",
    "simulator = Aer.get_backend('qasm_simulator')\n",
    "job = execute(qc, simulator, shots=1024)\n",
    "result = job.result()\n",
    "counts = result.get_counts()\n",
    "\n",
    "counts"
   ]
  },
  {
   "cell_type": "code",
   "execution_count": null,
   "metadata": {},
   "outputs": [],
   "source": [
    "# number of samples:\n",
    "number_of_t_gates = 2*7*c\n",
    "epsilon = 0.1\n",
    "prob_fail = 0.01\n",
    "hoeffding_samples = keys.compute_hoeffding_samples(number_of_t_gates,epsilon,prob_fail)\n",
    "\n",
    "hoeffding_samples"
   ]
  },
  {
   "cell_type": "code",
   "execution_count": null,
   "metadata": {},
   "outputs": [],
   "source": [
    "# Shift string\n",
    "print(f\"\\nHidden Shift: {shift}\\n\")\n",
    "\n",
    "# QCM simulation\n",
    "results = sim.run_qcm(qc_qasm,shots=hoeffding_samples)"
   ]
  }
 ],
 "metadata": {
  "kernelspec": {
   "display_name": "env3.10",
   "language": "python",
   "name": "python3"
  },
  "language_info": {
   "codemirror_mode": {
    "name": "ipython",
    "version": 3
   },
   "file_extension": ".py",
   "mimetype": "text/x-python",
   "name": "python",
   "nbconvert_exporter": "python",
   "pygments_lexer": "ipython3",
   "version": "3.10.13"
  }
 },
 "nbformat": 4,
 "nbformat_minor": 2
}
