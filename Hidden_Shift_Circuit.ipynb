{
 "cells": [
  {
   "cell_type": "code",
   "execution_count": null,
   "metadata": {},
   "outputs": [],
   "source": [
    "# suppress qiskit 1.0 deprecation warnings:\n",
    "import warnings\n",
    "import numpy as np\n",
    "\n",
    "# Suppress all warnings\n",
    "warnings.filterwarnings(\"ignore\")\n",
    "\n",
    "# Example code that raises warnings\n",
    "warnings.warn(\"This is a warning!\")\n",
    "\n",
    "from qiskit import QuantumCircuit, Aer, execute\n",
    "import src.qcm_sim as sim\n",
    "import src.compile_keys as keys\n",
    "\n",
    "# import circuits:\n",
    "import circuits.hidden_shift as hshift "
   ]
  },
  {
   "cell_type": "markdown",
   "metadata": {},
   "source": [
    "# Hidden Shift Algorithm\n",
    "\n",
    "The hidden shift algorithm introduced in [[Roetteler, 2008]](https://arxiv.org/abs/0811.3208) shows an oracle separation between $\\mathsf{P}$ and $\\mathsf{BQP}$ and has since been widely used for benchmarking classical simulation algorithms for Clifford+$T$ circuits; see e.g., [[Bravyi, Gosset, 2016]](https://arxiv.org/abs/1601.07601). (See also [[Amy, Stinchcombe, 2024]](https://arxiv.org/abs/2408.02778) for efficient classical simulation of hidden shift circuits.) In this notebook we provide the background for the correctness and query complexity of this quantum algorithm and classically simulate for various parameters using our phase space tableau.\n",
    "\n",
    "## Background\n",
    "\n",
    "Consider a hidden shift $s \\in \\mathbb{F}_2^n$ and functions\n",
    "\n",
    "$$f, f': \\mathbb{F}_2^n \\rightarrow \\{\\pm 1\\}$$\n",
    "\n",
    "where $f'$ is the  Walsh-Hadamard (WH) transform of the shifted function $f(y\\oplus s)$ given by\n",
    "\n",
    "$$f'(x)=2^{-n/2}\\displaystyle \\sum_{y\\in \\mathbb{F}_2^n}(-1)^{x\\cdot y}f(y \\oplus s).$$\n",
    "\n",
    "A boolean function $f: \\mathbb{F}_2^n \\rightarrow {\\pm 1}$ is **bent** if its WH-transform\n",
    "\n",
    "$$W_f(x)=2^{-n/2}\\displaystyle \\sum_y (-1)^{x\\cdot y} f(y)$$\n",
    "\n",
    "is **constant** for all $x \\in \\mathbb{F}_2^n$, i.e. $|W_f(x)|=1$.\n",
    "\n",
    "## Maiorana Family of Bent functions:\n",
    "Let $n$ be even, then a Maiorana bent function is of the form\n",
    "\n",
    "$$ f(x,y)=(-1)^{x\\cdot \\pi (y)+g(y)}\\quad  \\text{and}\\quad   x,y \\in \\mathbb{F}_2^{n/2}$$\n",
    "\n",
    "where $\\pi:\\mathbb{F}_2^n\\to \\mathbb{F}_2^n$ is a permuation and $g: \\mathbb{F}_2^{n/2} \\rightarrow \\mathbb{F}_2$ is arbitrary. The WH-transform of a Maiorana bent function is given by\n",
    "\n",
    "$\n",
    "\\begin{align}\n",
    "\\hat f(u,v)&=\\frac{1}{2^{n/2}}\\displaystyle \\sum_{xy}(-1)^{(x,y)\\cdot(u,v)}f(x,y) \\\\            \n",
    "&=(-1)^{\\pi^{-1}(u)\\cdot v+g(\\pi^{-1}(u))}.\n",
    "\\end{align}\n",
    "$\n",
    "\n",
    "## Statement of Problem:\n",
    "Suppose $f$ is a bent function and $f'$ is the Fourier (WH) transform of the shifted version $f(x\\oplus s)$.\n",
    "\n",
    "**Task:** Determine the shift $s \\in \\mathbb{F}_2^n$ with as few queries to an oracle giving access to the functions $f,f'$ as possible.\n",
    "\n",
    "Our goal is to construct the quantum circuit for solving the hidden shift problem."
   ]
  },
  {
   "cell_type": "markdown",
   "metadata": {},
   "source": [
    "## Quantum Solution\n",
    "Let $O_f|x\\rangle = f(x)|x\\rangle $ and $O_{f'}|x\\rangle = f'(x)|x\\rangle $ for some Maiorana bent functions $f,f'$ and define the unitary\n",
    "\n",
    "$$U :=H_n O_{f'}H_n O_f H_n\\quad \\text{where}\\quad H_n:=H^{\\otimes n}.$$\n",
    "\n",
    "It is possible to show (see below) that $U\\lvert 0\\rangle = \\lvert s \\rangle$, where $s$ is the hidden shift. It follows that\n",
    "\n",
    "$$ P(y|x) = |\\langle y|U|x\\rangle|^2 = |\\langle y|s\\rangle|^2 = \\delta(y,s). $$\n",
    "\n",
    "**Remark**: Since the outcome of the circuit is deterministic a single query to the quantum oracle suffices for determining the hidden shift. Roetteler showed that an exponential number of queries are required to a classical oracle, given by access to the functions $f,f'$. Thus we have exponential oracle separation between $\\mathsf{P}$ and $\\mathsf{BQP}$.\n",
    "\n",
    "### Proof of quantum solution\n",
    "\n",
    "Recall that $n$ is even and that $f$ is a Maiorana bent function so that\n",
    "\n",
    "$$f(u,v)= (-1)^{g(u)+v\\cdot \\pi(u)}$$\n",
    "\n",
    "where $u,v \\in \\mathbb{F}_2^{n/2}$ and $g: \\mathbb{F}_2^{n/2} \\rightarrow \\mathbb{F}_2$ is arbitrary. The permutation $\\pi$ is also arbitrary but for convenience (see e.g., [[Bravyi, Gosset, 2016]](https://arxiv.org/abs/1601.07601)) we will set $\\pi=id$. We then have that\n",
    "\n",
    "$$f(u,v)=(-1)^{g(u)+u\\cdot v}\\quad \\text{and}\\quad \\hat f(u,v)=(-1)^{u\\cdot v + g(v)}, $$\n",
    "\n",
    "where the latter is the WH-transform of $f$. From this we can also compute\n",
    "\n",
    "$$f'(u,v) = \\hat f(u,v)\\cdot (-1)^{u\\cdot r+v\\cdot r'}\\quad \\text{where}\\quad r,r'\\in \\mathbb{F}_2^{n/2}\\quad \\text{and}\\quad s=(r,r').$$\n",
    "\n",
    "\n",
    "Recall that the controlled-$Z$ operation is a diagonal operator and has the action $CZ_{ij}\\lvert u_1,\\cdots,u_n\\rangle = (-1)^{u_i u_j}\\lvert u_1,\\cdots,u_n\\rangle$ on the computational basis. For an arbitrary Boolean function $g$ let $O_g$ be a diagonal unitary satisfying\n",
    "\n",
    "$$O_g|u\\rangle=(-1)^{g(u)}|u\\rangle.$$\n",
    "\n",
    "It then follows readily that\n",
    "\n",
    "$$\n",
    "O_f|u,v\\rangle\n",
    "=\\left( \\prod^{n/2}_{i=1}CZ_{i,i+n/2}\\right )(O_g \\otimes I)|u,v\\rangle\n",
    "= (-1)^{g(u)+u\\cdot v}|u,v\\rangle\n",
    "$$\n",
    "\n",
    "Similarly we have that\n",
    "\n",
    "$$O_{f'}|u,v\\rangle=f'(u,v)|u,v\\rangle\\quad \\text{where}\\quad O_{f'} = \\left( \\prod^{n/2}_{i=1}CZ_{i,i+n/2}\\right )(I \\otimes O_g) Z(s).$$\n",
    "\n",
    "Using these expressions it is straightforward to show, using standard methods for computing the Hadamard transform, that $H_n O_{f'} H_n O_f H_n\\lvert 0\\rangle = \\lvert s \\rangle $."
   ]
  },
  {
   "cell_type": "markdown",
   "metadata": {},
   "source": [
    "## Constructing the quantum oracle\n",
    "\n",
    "For our family of oracles we first fix positive integers $\\kappa$ and $\\nu\\geq 3\\kappa$, with $n=2\\nu$ and $c=2\\kappa$. The parameter $\\kappa$ controls the total number of $CCZ$ gates, and thus the number of non-Clifford gates. In particular, we will use the decomposition of the Toffoli gate $CCX$ that uses $7$ $T$ gates (see e.g., [[Toffoli gate, Wikipedia]](https://en.wikipedia.org/wiki/Toffoli_gate)) from which we have that\n",
    "\n",
    "$$CCZ = (I\\otimes I \\otimes H)~ CCX ~ (I\\otimes I\\otimes H).$$\n",
    "\n",
    "\n",
    "\n",
    "The $\\nu$-qubit diagonal unitary $O_{g}$ corresponds to the arbitrary Boolean function $g:\\mathbb{F}_{2}^{\\nu}\\to \\mathbb{F}_{2}$. For our purposes we choose $O_{g}$ to be of the form\n",
    "$$\n",
    "O_{g} = \\prod_{j=0}^{c-1}CCZ_{j_{1},j_{2},j_{3}}\\quad \\text{where}\\quad j_{k} = k+jc\\quad (k=1,2,3).\n",
    "$$\n",
    "\n",
    "This oracle applies $CCZ$ on disjoint $3$-qubit subsets. If $n> 3\\nu$ then one can perform a diagonal unitary on the remaining qubits using diagonal Clifford gates drawn from $\\{Z,CZ\\}$."
   ]
  },
  {
   "cell_type": "code",
   "execution_count": null,
   "metadata": {},
   "outputs": [],
   "source": [
    "m = 3\n",
    "n = 2*m\n",
    "c = int(m/3)\n",
    "\n",
    "# Generate a random hidden shift\n",
    "shift = [1 for _ in range(n)]\n",
    "\n",
    "# create qiskit circuit\n",
    "qc = hshift.hidden_shift(n,c,shift,is_clifford = False)\n",
    "qc_qasm = qc.qasm()\n",
    "\n",
    "print(qc)"
   ]
  },
  {
   "cell_type": "code",
   "execution_count": null,
   "metadata": {},
   "outputs": [],
   "source": [
    "# Qiskit simulation\n",
    "simulator = Aer.get_backend('qasm_simulator')\n",
    "job = execute(qc, simulator, shots=1024)\n",
    "result = job.result()\n",
    "counts = result.get_counts()\n",
    "\n",
    "counts"
   ]
  },
  {
   "cell_type": "code",
   "execution_count": null,
   "metadata": {},
   "outputs": [],
   "source": [
    "# number of samples:\n",
    "number_of_t_gates = 2*7*c\n",
    "epsilon = 0.1\n",
    "prob_fail = 0.01\n",
    "hoeffding_samples = keys.compute_hoeffding_samples(number_of_t_gates,epsilon,prob_fail)\n",
    "\n",
    "hoeffding_samples"
   ]
  },
  {
   "cell_type": "code",
   "execution_count": null,
   "metadata": {},
   "outputs": [],
   "source": [
    "# Shift string\n",
    "print(f\"\\nHidden Shift: {shift}\\n\")\n",
    "\n",
    "# QCM simulation\n",
    "results = sim.run_qcm(qc_qasm,shots=hoeffding_samples)"
   ]
  }
 ],
 "metadata": {
  "kernelspec": {
   "display_name": "env3.10",
   "language": "python",
   "name": "python3"
  },
  "language_info": {
   "codemirror_mode": {
    "name": "ipython",
    "version": 3
   },
   "file_extension": ".py",
   "mimetype": "text/x-python",
   "name": "python",
   "nbconvert_exporter": "python",
   "pygments_lexer": "ipython3",
   "version": "3.10.13"
  }
 },
 "nbformat": 4,
 "nbformat_minor": 2
}
