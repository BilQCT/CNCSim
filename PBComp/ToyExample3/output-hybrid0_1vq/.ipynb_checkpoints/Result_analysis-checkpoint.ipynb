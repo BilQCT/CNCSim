{
 "cells": [
  {
   "cell_type": "markdown",
   "id": "bd696a20",
   "metadata": {},
   "source": [
    "# Analysis the results of hybrid PBC\n",
    "\n",
    "In this notebook, we will analyse the results obtained for the **Toffoli toy example** using our hybrid PBC script.\n",
    "\n",
    "We run the script simulating **1 virtual qubit** and demanding a precision $\\epsilon_{desired} = 0.01\\,.$\n",
    "\n",
    "The number of samples is being determined as:\n",
    "$$\n",
    "N = \\frac{20 \\cdot \\sum_{i=1}^{\\chi} \\alpha_i^2}{\\epsilon^2_{desired}}\\,,\n",
    "$$\n",
    "and the actual relative error $\\epsilon_{actual}$ as:\n",
    "\n",
    "$$\n",
    "\\epsilon_{actual} = \\sqrt{20} \\frac{\\sigma_{samples}}{\\sqrt{N}}\\,.\n",
    "$$\n",
    "\n",
    "Note that since necessarily $\\sigma_{samples}^2 \\leq \\sum_{i=1}^{\\chi} \\alpha_i^2$ then $\\epsilon_{actual} \\leq \\epsilon_{desired}\\,.$\n",
    "\n",
    "As a result, we will have 95%-confidence intervals given by $\\mathbb{E}(\\xi) \\pm \\epsilon_{actual}\\,.$"
   ]
  },
  {
   "cell_type": "code",
   "execution_count": 1,
   "id": "65deb70d",
   "metadata": {},
   "outputs": [],
   "source": [
    "import math\n",
    "from math import sqrt\n",
    "\n",
    "import numpy as np\n",
    "import json\n",
    "from matplotlib import pyplot as plt"
   ]
  },
  {
   "cell_type": "code",
   "execution_count": 2,
   "id": "5ea3ea52",
   "metadata": {},
   "outputs": [],
   "source": [
    "def nr_samples(precision, virtual_qubits):\n",
    "    weights_1vq = [1 / 2, (1 - sqrt(2)) / 2, 1 / sqrt(2)]\n",
    "    \n",
    "    sum_squares = 0\n",
    "    for i in range(3**virtual_qubits):\n",
    "        label = np.base_repr(i, base=3)\n",
    "        label = str(label)\n",
    "        if not len(label) == virtual_qubits:\n",
    "            label = '0' * (virtual_qubits - len(label)) + label\n",
    "\n",
    "        weight = 1\n",
    "        for s in label:\n",
    "            weight = weight * weights_1vq[int(s)]\n",
    "\n",
    "        sum_squares += abs(weight)**2\n",
    "\n",
    "    N = int(math.ceil(20 * sum_squares / precision**2))\n",
    "    \n",
    "    return N"
   ]
  },
  {
   "cell_type": "code",
   "execution_count": 3,
   "id": "d650d2a3",
   "metadata": {},
   "outputs": [
    {
     "name": "stdout",
     "output_type": "stream",
     "text": [
      "[1586, 1958, 3237, 6344, 17620, 39645, 158579]\n"
     ]
    }
   ],
   "source": [
    "precision = [0.1, 0.09, 0.07, 0.05, 0.03, 0.02, 0.01]\n",
    "vq = 1  # choosing 1 virtual qubit\n",
    "samples = []\n",
    "\n",
    "for p in precision:\n",
    "    samples.append(nr_samples(p, vq))\n",
    "\n",
    "print(samples)"
   ]
  },
  {
   "cell_type": "markdown",
   "id": "b561232c",
   "metadata": {},
   "source": [
    "Because we run the code for the precision $\\epsilon = 0.01$, we should have a total of $158\\,579$ values to use for the computation of the probability $p\\,.$\n",
    "We can use those values to estimate the expected value of this probability and determine how close it is to the exact value $p= 0.$\n",
    "\n",
    "We can also determine the standard deviation of the sample, and use it to compute the appropriate confidence interval.\n",
    "\n",
    "Since we have access to smaller sets of values as well, we can use the first $M$ values to estimate the results that would have been obtained if we have requested a different precision (e.g., $\\epsilon = \\{ 0.10,\\, 0.09,\\, 0.07,\\, 0.05,\\, 0.03,\\, 0.02 \\}$)."
   ]
  },
  {
   "cell_type": "code",
   "execution_count": 4,
   "id": "9c5c7e49",
   "metadata": {},
   "outputs": [],
   "source": [
    "exact_value = 0"
   ]
  },
  {
   "cell_type": "markdown",
   "id": "90234c30",
   "metadata": {
    "jp-MarkdownHeadingCollapsed": true,
    "tags": []
   },
   "source": [
    "## $\\epsilon = 0.01 \\Rightarrow N= 158\\, 579$"
   ]
  },
  {
   "cell_type": "code",
   "execution_count": 5,
   "id": "84cbe2b3",
   "metadata": {},
   "outputs": [],
   "source": [
    "with open('Resources_data--virt1--probabilities.txt', 'r') as file_object:\n",
    "    probabilities1 = json.load(file_object)"
   ]
  },
  {
   "cell_type": "code",
   "execution_count": 6,
   "id": "09ef1451",
   "metadata": {},
   "outputs": [
    {
     "name": "stdout",
     "output_type": "stream",
     "text": [
      "True\n",
      "p= -0.0005 +/- 0.0035\n",
      "True\n"
     ]
    }
   ],
   "source": [
    "probabilities1 = np.array(probabilities1)\n",
    "prec = precision[-1]\n",
    "print(len(probabilities1) == samples[-1])\n",
    "\n",
    "mean1 = np.mean(probabilities1) \n",
    "std1 = np.std(probabilities1)\n",
    "error1 = sqrt(20) * std1 / sqrt(len(probabilities1))\n",
    "\n",
    "print(f'p= {round(mean1, 4)} +/- {round(error1, 4)}')\n",
    "print(error1 < prec)"
   ]
  },
  {
   "cell_type": "markdown",
   "id": "4988a14e",
   "metadata": {
    "tags": []
   },
   "source": [
    "## $\\epsilon = 0.02 \\Rightarrow N= 39\\, 645$"
   ]
  },
  {
   "cell_type": "code",
   "execution_count": 7,
   "id": "9917dd24",
   "metadata": {},
   "outputs": [],
   "source": [
    "probabilities2 = probabilities1[:samples[-2]]"
   ]
  },
  {
   "cell_type": "code",
   "execution_count": 8,
   "id": "9e479232",
   "metadata": {},
   "outputs": [
    {
     "name": "stdout",
     "output_type": "stream",
     "text": [
      "True\n",
      "p= -0.0035 +/- 0.007\n",
      "True\n"
     ]
    }
   ],
   "source": [
    "prec = precision[-2]\n",
    "print(len(probabilities2) == samples[-2])\n",
    "\n",
    "mean2 = np.mean(probabilities2) \n",
    "std2 = np.std(probabilities2)\n",
    "error2 = sqrt(20) * std2 / sqrt(len(probabilities2))\n",
    "\n",
    "print(f'p= {round(mean2, 4)} +/- {round(error2, 4)}')\n",
    "print(error2 < prec)"
   ]
  },
  {
   "cell_type": "markdown",
   "id": "6b74315f",
   "metadata": {
    "tags": []
   },
   "source": [
    "## $\\epsilon = 0.03 \\Rightarrow N= 17\\, 620$"
   ]
  },
  {
   "cell_type": "code",
   "execution_count": 9,
   "id": "bba02914",
   "metadata": {},
   "outputs": [],
   "source": [
    "probabilities3 = probabilities1[:samples[-3]]"
   ]
  },
  {
   "cell_type": "code",
   "execution_count": 10,
   "id": "aee23aca",
   "metadata": {},
   "outputs": [
    {
     "name": "stdout",
     "output_type": "stream",
     "text": [
      "True\n",
      "p= -0.0021 +/- 0.0105\n",
      "True\n"
     ]
    }
   ],
   "source": [
    "prec = precision[-3]\n",
    "print(len(probabilities3) == samples[-3])\n",
    "\n",
    "mean3 = np.mean(probabilities3) \n",
    "std3 = np.std(probabilities3)\n",
    "error3 = sqrt(20) * std3 / sqrt(len(probabilities3))\n",
    "\n",
    "print(f'p= {round(mean3, 4)} +/- {round(error3, 4)}')\n",
    "print(error3 < prec)"
   ]
  },
  {
   "cell_type": "markdown",
   "id": "e348cd60",
   "metadata": {
    "tags": []
   },
   "source": [
    "## $\\epsilon = 0.05 \\Rightarrow N= 6\\, 344$"
   ]
  },
  {
   "cell_type": "code",
   "execution_count": 11,
   "id": "1d89ae3c",
   "metadata": {},
   "outputs": [],
   "source": [
    "probabilities4 = probabilities1[:samples[-4]]"
   ]
  },
  {
   "cell_type": "code",
   "execution_count": 12,
   "id": "917e581f",
   "metadata": {},
   "outputs": [
    {
     "name": "stdout",
     "output_type": "stream",
     "text": [
      "True\n",
      "p= -0.0025 +/- 0.0176\n",
      "True\n"
     ]
    }
   ],
   "source": [
    "prec = precision[-4]\n",
    "print(len(probabilities4) == samples[-4])\n",
    "\n",
    "mean4 = np.mean(probabilities4) \n",
    "std4 = np.std(probabilities4)\n",
    "error4 = sqrt(20) * std4 / sqrt(len(probabilities4))\n",
    "\n",
    "print(f'p= {round(mean4, 4)} +/- {round(error4, 4)}')\n",
    "print(error4 < prec)"
   ]
  },
  {
   "cell_type": "markdown",
   "id": "fd6b76ea",
   "metadata": {
    "tags": []
   },
   "source": [
    "## $\\epsilon = 0.07 \\Rightarrow N= 3\\, 237$"
   ]
  },
  {
   "cell_type": "code",
   "execution_count": 13,
   "id": "6cc52a63",
   "metadata": {},
   "outputs": [],
   "source": [
    "probabilities5 = probabilities1[:samples[-5]]"
   ]
  },
  {
   "cell_type": "code",
   "execution_count": 14,
   "id": "79fbc091",
   "metadata": {},
   "outputs": [
    {
     "name": "stdout",
     "output_type": "stream",
     "text": [
      "True\n",
      "p= -0.001 +/- 0.0246\n",
      "True\n"
     ]
    }
   ],
   "source": [
    "prec = precision[-5]\n",
    "print(len(probabilities5) == samples[-5])\n",
    "\n",
    "mean5 = np.mean(probabilities5) \n",
    "std5 = np.std(probabilities5)\n",
    "error5 = sqrt(20) * std5 / sqrt(len(probabilities5))\n",
    "\n",
    "print(f'p= {round(mean5, 4)} +/- {round(error5, 4)}')\n",
    "print(error5 < prec)"
   ]
  },
  {
   "cell_type": "markdown",
   "id": "bbed82d8",
   "metadata": {
    "tags": []
   },
   "source": [
    "## $\\epsilon = 0.09 \\Rightarrow N= 1\\, 958$"
   ]
  },
  {
   "cell_type": "code",
   "execution_count": 15,
   "id": "ee70eed8",
   "metadata": {},
   "outputs": [],
   "source": [
    "probabilities6 = probabilities1[:samples[-6]]"
   ]
  },
  {
   "cell_type": "code",
   "execution_count": 16,
   "id": "78fe5ec6",
   "metadata": {},
   "outputs": [
    {
     "name": "stdout",
     "output_type": "stream",
     "text": [
      "True\n",
      "p= 0.0039 +/- 0.0319\n",
      "True\n"
     ]
    }
   ],
   "source": [
    "prec = precision[-6]\n",
    "print(len(probabilities6) == samples[-6])\n",
    "\n",
    "mean6 = np.mean(probabilities6) \n",
    "std6 = np.std(probabilities6)\n",
    "error6 = sqrt(20) * std6 / sqrt(len(probabilities6))\n",
    "\n",
    "print(f'p= {round(mean6, 4)} +/- {round(error6, 4)}')\n",
    "print(error6 < prec)"
   ]
  },
  {
   "cell_type": "markdown",
   "id": "640edf9e",
   "metadata": {
    "tags": []
   },
   "source": [
    "## $\\epsilon = 0.100 \\Rightarrow N= 1\\, 586$"
   ]
  },
  {
   "cell_type": "code",
   "execution_count": 17,
   "id": "bdaf1248",
   "metadata": {},
   "outputs": [],
   "source": [
    "probabilities7 = probabilities1[:samples[-7]]"
   ]
  },
  {
   "cell_type": "code",
   "execution_count": 18,
   "id": "94bc3c98",
   "metadata": {},
   "outputs": [
    {
     "name": "stdout",
     "output_type": "stream",
     "text": [
      "True\n",
      "p= 0.0014 +/- 0.035\n",
      "True\n"
     ]
    }
   ],
   "source": [
    "prec = precision[-7]\n",
    "print(len(probabilities7) == samples[-7])\n",
    "\n",
    "mean7 = np.mean(probabilities7) \n",
    "std7 = np.std(probabilities7)\n",
    "error7 = sqrt(20) * std7 / sqrt(len(probabilities7))\n",
    "\n",
    "print(f'p= {round(mean7, 4)} +/- {round(error7, 4)}')\n",
    "print(error7 < prec)"
   ]
  },
  {
   "cell_type": "markdown",
   "id": "f84d4fc1",
   "metadata": {},
   "source": [
    "---"
   ]
  },
  {
   "cell_type": "markdown",
   "id": "bfac705c",
   "metadata": {
    "tags": []
   },
   "source": [
    "## Plotting the data:"
   ]
  },
  {
   "cell_type": "code",
   "execution_count": 19,
   "id": "2215465f",
   "metadata": {},
   "outputs": [],
   "source": [
    "means = [mean7, mean6, mean5, mean4, mean3, mean2, mean1]\n",
    "errors = [error7, error6, error5, error4, error3, error2, error1]\n",
    "\n",
    "bot_bar = [means[i] - errors[i] for i in range(len(means))]\n",
    "heights = [2*errors[i] for i in range(len(means))]"
   ]
  },
  {
   "cell_type": "code",
   "execution_count": 20,
   "id": "68d44fec",
   "metadata": {},
   "outputs": [
    {
     "data": {
      "image/png": "[encoded data removed]",
      "text/plain": [
       "<Figure size 432x288 with 1 Axes>"
      ]
     },
     "metadata": {
      "needs_background": "light"
     },
     "output_type": "display_data"
    }
   ],
   "source": [
    "fig = plt.figure()\n",
    "\n",
    "plt.bar([i for i in range(len(means))],\n",
    "        heights,\n",
    "        width=0.8,\n",
    "        bottom=bot_bar,\n",
    "        align='center',\n",
    "        color='lightblue',\n",
    "        label='Results: 95% CI')\n",
    "\n",
    "plt.errorbar([i for i in range(len(means))],\n",
    "             means,\n",
    "             color='blue',\n",
    "             marker='D',\n",
    "             markersize=4,\n",
    "             linestyle='None',\n",
    "             label='Results: means')\n",
    "\n",
    "plt.errorbar([i for i in range(len(means))],\n",
    "             [exact_value for _ in range(len(means))],\n",
    "             color='green',\n",
    "             marker='o',\n",
    "             markersize=4,\n",
    "             linestyle='None',\n",
    "             label='Exact result')\n",
    "\n",
    "plt.errorbar([i for i in range(len(means))],\n",
    "             means,\n",
    "             yerr=precision,\n",
    "             color='red',\n",
    "             linestyle='None',\n",
    "             label='Precision bound')\n",
    "\n",
    "plt.xticks([i for i in range(len(means))], precision, size=14)\n",
    "plt.xlabel(r'$\\epsilon$', fontsize=16)\n",
    "\n",
    "#plt.ylim([0.05, 0.25])\n",
    "plt.yticks(size=14)\n",
    "plt.ylabel(r'$p$', fontsize=16)\n",
    "\n",
    "plt.legend(fontsize=14)\n",
    "\n",
    "plt.title('Hybrid PBC - Toffoli0 (1 virtual qubit)', fontsize=18)\n",
    "\n",
    "plt.show()"
   ]
  },
  {
   "cell_type": "markdown",
   "id": "25e074e5",
   "metadata": {},
   "source": [
    "**Note that since the probability cannot be negative, whenever the expectation value is lower than zero we can replace its outcome by zero instead. Additionally, we can also stop the confidence interval (and precision bound) at zero.**"
   ]
  },
  {
   "cell_type": "code",
   "execution_count": 21,
   "id": "043457bc",
   "metadata": {},
   "outputs": [],
   "source": [
    "new_heights = []\n",
    "lower_error = []\n",
    "\n",
    "for i in range(len(means)):\n",
    "    if means[i] < 0:\n",
    "        means[i] = 0\n",
    "    new_heights.append(errors[i] + means[i])\n",
    "    lower_error.append(means[i])"
   ]
  },
  {
   "cell_type": "code",
   "execution_count": 22,
   "id": "b9324acf",
   "metadata": {},
   "outputs": [
    {
     "data": {
      "image/png": "[encoded data removed]",
      "text/plain": [
       "<Figure size 720x576 with 3 Axes>"
      ]
     },
     "metadata": {
      "needs_background": "light"
     },
     "output_type": "display_data"
    }
   ],
   "source": [
    "fig = plt.figure(constrained_layout=True, figsize=(10, 8))\n",
    "\n",
    "subfigs = fig.subfigures(2, 1, hspace=0.07)\n",
    "\n",
    "# Upper subfigure\n",
    "subplot = subfigs[0].add_subplot(111)\n",
    "plt.bar([i for i in range(len(means))],\n",
    "        new_heights,\n",
    "        width=0.8,\n",
    "        align='center',\n",
    "        color='lightblue',\n",
    "        label='Results: 95% CI')\n",
    "\n",
    "plt.errorbar([i for i in range(len(means))],\n",
    "             means,\n",
    "             color='blue',\n",
    "             marker='D',\n",
    "             markersize=4,\n",
    "             linestyle='None',\n",
    "             label='Results: means')\n",
    "\n",
    "plt.errorbar([i for i in range(len(means))],\n",
    "             [exact_value for _ in range(len(means))],\n",
    "             color='green',\n",
    "             marker='o',\n",
    "             markersize=4,\n",
    "             linestyle='None',\n",
    "             label='Exact result')\n",
    "\n",
    "plt.errorbar([i for i in range(len(means))],\n",
    "             means,\n",
    "             yerr=[lower_error, precision],\n",
    "             color='red',\n",
    "             linestyle='None',\n",
    "             label='Precision bound')\n",
    "\n",
    "plt.plot(np.arange(-1, 8, 1), [exact_value for _ in np.arange(-1, 8, 1)],\n",
    "         '--',\n",
    "         color='green',\n",
    "         linewidth=1)\n",
    "\n",
    "plt.xlim([-0.75, 6.75])\n",
    "plt.xticks([i for i in range(len(means))], precision, size=14)\n",
    "plt.xlabel(r'$\\epsilon$', fontsize=16)\n",
    "\n",
    "plt.ylim([-0.005, 0.10])\n",
    "plt.yticks(size=14)\n",
    "plt.ylabel(r'$p$', fontsize=16)\n",
    "\n",
    "plt.legend(fontsize=14)\n",
    "\n",
    "plt.title('Hybrid PBC - Toffoli 0 (1 virtual qubit)', fontsize=18)\n",
    "\n",
    "# Lower subfigure (left)\n",
    "subplot = subfigs[1].add_subplot(121)\n",
    "plt.bar([i for i in range(4)],\n",
    "        new_heights[:4],\n",
    "        width=0.8,\n",
    "        align='center',\n",
    "        color='lightblue',\n",
    "        label='Results: 95% CI')\n",
    "\n",
    "plt.errorbar([i for i in range(4)],\n",
    "             means[:4],\n",
    "             color='blue',\n",
    "             marker='D',\n",
    "             markersize=4,\n",
    "             linestyle='None',\n",
    "             label='Results: means')\n",
    "\n",
    "plt.errorbar([i for i in range(4)], [exact_value for _ in range(4)],\n",
    "             color='green',\n",
    "             marker='o',\n",
    "             markersize=4,\n",
    "             linestyle='None',\n",
    "             linewidth=1,\n",
    "             label='Exact result')\n",
    "\n",
    "plt.errorbar([i for i in range(4)],\n",
    "             means[:4],\n",
    "             yerr=[lower_error[:4], precision[:4]],\n",
    "             color='red',\n",
    "             linestyle='None',\n",
    "             label='Precision bound')\n",
    "\n",
    "plt.plot(np.arange(-1, 8, 1), [exact_value for _ in np.arange(-1, 8, 1)],\n",
    "         '--',\n",
    "         color='green',\n",
    "         linewidth=1)\n",
    "\n",
    "plt.xlim([-0.75, 3.75])\n",
    "plt.xticks([i for i in range(4)], precision[:4], size=14)\n",
    "plt.xlabel(r'$\\epsilon$', fontsize=16)\n",
    "\n",
    "plt.ylim([-0.001, 0.04])\n",
    "plt.yticks(np.arange(0, 0.045, 0.005),\n",
    "           [round(i, 3) for i in np.arange(0, 0.045, 0.005)],\n",
    "           size=14)\n",
    "plt.ylabel(r'$p$', fontsize=16)\n",
    "\n",
    "# Lower subfigure (right)\n",
    "subplot = subfigs[1].add_subplot(122)\n",
    "plt.bar([i for i in range(4)],\n",
    "        new_heights[3:],\n",
    "        width=0.8,\n",
    "        align='center',\n",
    "        color='lightblue',\n",
    "        label='Results: 95% CI')\n",
    "\n",
    "plt.errorbar([i for i in range(4)],\n",
    "             means[3:],\n",
    "             color='blue',\n",
    "             marker='D',\n",
    "             markersize=4,\n",
    "             linestyle='None',\n",
    "             label='Results: means')\n",
    "\n",
    "plt.errorbar([i for i in range(4)], [exact_value for _ in range(4)],\n",
    "             color='green',\n",
    "             marker='o',\n",
    "             markersize=4,\n",
    "             linestyle='None',\n",
    "             label='Exact result')\n",
    "\n",
    "plt.errorbar([i for i in range(4)],\n",
    "             means[3:],\n",
    "             yerr=[lower_error[3:], precision[3:]],\n",
    "             color='red',\n",
    "             linestyle='None',\n",
    "             label='Precision bound')\n",
    "\n",
    "plt.plot(np.arange(-1, 8, 1), [exact_value for _ in np.arange(-1, 8, 1)],\n",
    "         '--',\n",
    "         color='green',\n",
    "         linewidth=1)\n",
    "\n",
    "plt.xlim([-0.75, 3.75])\n",
    "plt.xticks([i for i in range(4)], precision[3:], size=14)\n",
    "plt.xlabel(r'$\\epsilon$', fontsize=16)\n",
    "\n",
    "plt.ylim([-0.001, 0.04])\n",
    "plt.yticks(np.arange(0, 0.045, 0.005),\n",
    "           [round(i, 3) for i in np.arange(0, 0.045, 0.005)],\n",
    "           size=14)\n",
    "plt.ylabel(r'$p$', fontsize=16)\n",
    "\n",
    "fig.savefig(\"Probability_vs_precision.pdf\", bbox_inches='tight')\n",
    "plt.show()"
   ]
  },
  {
   "cell_type": "code",
   "execution_count": null,
   "id": "a19f88ca",
   "metadata": {},
   "outputs": [],
   "source": []
  }
 ],
 "metadata": {
  "kernelspec": {
   "display_name": "Python 3 (ipykernel)",
   "language": "python",
   "name": "python3"
  },
  "language_info": {
   "codemirror_mode": {
    "name": "ipython",
    "version": 3
   },
   "file_extension": ".py",
   "mimetype": "text/x-python",
   "name": "python",
   "nbconvert_exporter": "python",
   "pygments_lexer": "ipython3",
   "version": "3.7.10"
  }
 },
 "nbformat": 4,
 "nbformat_minor": 5
}
