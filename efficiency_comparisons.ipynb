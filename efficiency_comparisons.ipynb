{
 "cells": [
  {
   "cell_type": "code",
   "execution_count": 2,
   "metadata": {},
   "outputs": [
    {
     "name": "stdout",
     "output_type": "stream",
     "text": [
      "Bitwise XOR operation time: 0.357372 seconds\n",
      "Addition followed by modulo operation time: 1.515845 seconds\n"
     ]
    }
   ],
   "source": [
    "import numpy as np\n",
    "import timeit\n",
    "\n",
    "# Bitwise AND operation\n",
    "setup_and = \"\"\"\n",
    "import numpy as np\n",
    "a = np.array([1, 2, 3, 4, 5, 6, 7, 8])\n",
    "b = np.array([1, 2, 3, 4, 5, 6, 7, 8])\n",
    "\"\"\"\n",
    "\n",
    "stmt_and = \"a ^= b\"\n",
    "\n",
    "# Addition followed by modulo\n",
    "setup_mod = \"\"\"\n",
    "import numpy as np\n",
    "a = np.array([1, 2, 3, 4, 5, 6, 7, 8])\n",
    "b = np.array([1, 2, 3, 4, 5, 6, 7, 8])\n",
    "\"\"\"\n",
    "\n",
    "stmt_mod = \"a = (a + b) % 2\"\n",
    "\n",
    "# Time the bitwise AND operation\n",
    "time_and = timeit.timeit(stmt=stmt_and, setup=setup_and, number=1000000)\n",
    "print(f\"Bitwise XOR operation time: {time_and:.6f} seconds\")\n",
    "\n",
    "# Time the addition followed by modulo operation\n",
    "time_mod = timeit.timeit(stmt=stmt_mod, setup=setup_mod, number=1000000)\n",
    "print(f\"Addition followed by modulo operation time: {time_mod:.6f} seconds\")"
   ]
  },
  {
   "cell_type": "code",
   "execution_count": 3,
   "metadata": {},
   "outputs": [
    {
     "name": "stdout",
     "output_type": "stream",
     "text": [
      "GF(2) matrix multiplication time: 2.049155 seconds\n",
      "Integer matrix multiplication followed by modulo 2 time: 0.204563 seconds\n"
     ]
    }
   ],
   "source": [
    "import galois\n",
    "import numpy as np\n",
    "import timeit\n",
    "\n",
    "# Define the finite field GF(2)\n",
    "GF2 = galois.GF(2)\n",
    "\n",
    "# Create matrices in GF(2)\n",
    "A_gf = GF2([[1, 0, 1], [0, 1, 1], [1, 1, 0]])\n",
    "B_gf = GF2([[0, 1, 0], [1, 0, 1], [0, 1, 1]])\n",
    "\n",
    "# Matrix multiplication in GF(2)\n",
    "def gf2_matrix_multiplication():\n",
    "    return A_gf @ B_gf\n",
    "\n",
    "# Benchmark the GF(2) matrix multiplication\n",
    "time_gf2 = timeit.timeit(gf2_matrix_multiplication, number=100000)\n",
    "print(f\"GF(2) matrix multiplication time: {time_gf2:.6f} seconds\")\n",
    "\n",
    "# Create matrices as integers\n",
    "A_int = np.array([[1, 0, 1], [0, 1, 1], [1, 1, 0]], dtype=int)\n",
    "B_int = np.array([[0, 1, 0], [1, 0, 1], [0, 1, 1]], dtype=int)\n",
    "\n",
    "# Matrix multiplication followed by modulo 2\n",
    "def int_matrix_multiplication_mod2():\n",
    "    return (A_int @ B_int) % 2\n",
    "\n",
    "# Benchmark the integer matrix multiplication followed by modulo 2\n",
    "time_int_mod2 = timeit.timeit(int_matrix_multiplication_mod2, number=100000)\n",
    "print(f\"Integer matrix multiplication followed by modulo 2 time: {time_int_mod2:.6f} seconds\")"
   ]
  },
  {
   "cell_type": "code",
   "execution_count": 4,
   "metadata": {},
   "outputs": [
    {
     "name": "stdout",
     "output_type": "stream",
     "text": [
      "Execution time with check: 0.545182 seconds\n",
      "Execution time without check: 0.257606 seconds\n",
      "Overhead introduced by the check: 0.287576 seconds\n"
     ]
    }
   ],
   "source": [
    "import numpy as np\n",
    "import timeit\n",
    "\n",
    "# Define the symplectic inner product function\n",
    "def symplectic_inner_product(u: np.ndarray, v: np.ndarray) -> int:\n",
    "    n = len(u) // 2\n",
    "    return (((u[0:n] @ v[n:]) - (u[n:] @ v[0:n])) % 2)\n",
    "\n",
    "# Define the beta function with the check\n",
    "def beta_with_check(u: np.ndarray, v: np.ndarray) -> int:\n",
    "    n = int(len(u) / 2)\n",
    "    # check if paulis commute:\n",
    "    if symplectic_inner_product(u, v) != 0:\n",
    "        raise ValueError(\"Pauli elements must commute.\")\n",
    "    else:\n",
    "        return (int(((u[n:] @ v[0:n]) - (u[0:n] @ v[n:])) / 2) % 2)\n",
    "\n",
    "# Define the beta function without the check\n",
    "def beta_without_check(u: np.ndarray, v: np.ndarray) -> int:\n",
    "    n = int(len(u) / 2)\n",
    "    return (int(((u[n:] @ v[0:n]) - (u[0:n] @ v[n:])) / 2) % 2)\n",
    "\n",
    "# Create sample input data\n",
    "u = np.random.randint(0, 2, size=10)\n",
    "v = u\n",
    "\n",
    "\n",
    "# Measure the execution time of beta_with_check\n",
    "time_with_check = timeit.timeit(lambda: beta_with_check(u, v), number=100000)\n",
    "print(f\"Execution time with check: {time_with_check:.6f} seconds\")\n",
    "\n",
    "# Measure the execution time of beta_without_check\n",
    "time_without_check = timeit.timeit(lambda: beta_without_check(u, v), number=100000)\n",
    "print(f\"Execution time without check: {time_without_check:.6f} seconds\")\n",
    "\n",
    "# Calculate the overhead\n",
    "overhead = time_with_check - time_without_check\n",
    "print(f\"Overhead introduced by the check: {overhead:.6f} seconds\")"
   ]
  },
  {
   "cell_type": "code",
   "execution_count": 22,
   "metadata": {},
   "outputs": [
    {
     "name": "stderr",
     "output_type": "stream",
     "text": [
      "<>:14: SyntaxWarning: invalid escape sequence '\\m'\n",
      "<>:14: SyntaxWarning: invalid escape sequence '\\m'\n",
      "/var/folders/vb/d0tsm20528v3w63nm9bgvc9h0000gn/T/ipykernel_73884/1172123708.py:14: SyntaxWarning: invalid escape sequence '\\m'\n",
      "  \"\"\"\n"
     ]
    },
    {
     "name": "stdout",
     "output_type": "stream",
     "text": [
      "Original function time: 0.245075 seconds\n",
      "First optimized function time: 0.384503 seconds\n",
      "Second optimized function time: 0.190406 seconds\n",
      "Third optimized function time: 0.211302 seconds\n"
     ]
    }
   ],
   "source": [
    "def symplectic_inner_product(u: np.ndarray, v: np.ndarray) -> int:\n",
    "    n = len(u) // 2\n",
    "    return (((u[0:n] @ v[n:]) - (u[n:] @ v[0:n])) % 2)\n",
    "\n",
    "def symplectic_inner_product_v2(u: np.ndarray, v: np.ndarray) -> int:\n",
    "    n = len(u) // 2\n",
    "    return np.bitwise_xor.reduce(u[0:n] & v[n:]) ^ np.bitwise_xor.reduce(u[n:] & v[0:n])\n",
    "\n",
    "def symplectic_inner_product_v3(u: np.ndarray, v: np.ndarray) -> int:\n",
    "    n = len(u) // 2\n",
    "    return (((u[0:n].dot(v[n:])) - (u[n:].dot(v[0:n]))) % 2)\n",
    "\n",
    "def symplectic_inner_product_v4(u: np.ndarray, v: np.ndarray) -> int:\n",
    "    \"\"\"\n",
    "    Computes the symplectic inner product of two vectors u and v in :math:`\\mathbb{Z}_2`.\n",
    "\n",
    "    Args:\n",
    "        u (np.ndarray): The first vector.\n",
    "        v (np.ndarray): The second vector.\n",
    "\n",
    "    Returns:\n",
    "        int: The symplectic inner product of u and v in :math:`\\mathbb{Z}_2`.\n",
    "    \"\"\"\n",
    "    assert u.shape == v.shape\n",
    "    assert u.shape[0] % 2 == 0\n",
    "    n = len(u) // 2\n",
    "    ux, uz = u[:n], u[n:]\n",
    "    vx, vz = v[:n], v[n:]\n",
    "    return (uz.dot(vx) - ux.dot(vz)) % 2\n",
    "\n",
    "# Timing comparison\n",
    "def time_function(func, u, v, number=100000):\n",
    "    timer = timeit.Timer(lambda: func(u, v))\n",
    "    return timer.timeit(number=number)\n",
    "\n",
    "# Test Case\n",
    "u = np.random.randint(0, 2, size=30)\n",
    "v = np.random.randint(0, 2, size=30)\n",
    "\n",
    "# Time the original function\n",
    "time_original = time_function(symplectic_inner_product, u, v)\n",
    "print(f\"Original function time: {time_original:.6f} seconds\")\n",
    "\n",
    "# Time the first optimized function\n",
    "time_v2 = time_function(symplectic_inner_product_v2, u, v)\n",
    "print(f\"First optimized function time: {time_v2:.6f} seconds\")\n",
    "\n",
    "# Time the second optimized function\n",
    "time_v3 = time_function(symplectic_inner_product_v3, u, v)\n",
    "print(f\"Second optimized function time: {time_v3:.6f} seconds\")\n",
    "\n",
    "# Time the third optimized function\n",
    "time_v4 = time_function(symplectic_inner_product_v4, u, v)\n",
    "print(f\"Third optimized function time: {time_v4:.6f} seconds\")\n"
   ]
  },
  {
   "cell_type": "code",
   "execution_count": 23,
   "metadata": {},
   "outputs": [
    {
     "name": "stdout",
     "output_type": "stream",
     "text": [
      "Original nested loops implementation time: 29.455326 seconds\n",
      "Optimized nested loops implementation time: 2.193832 seconds\n",
      "Optimized numpy implementation time: 0.965987 seconds\n"
     ]
    }
   ],
   "source": [
    "import timeit\n",
    "\n",
    "def create_matrix_with_loops():\n",
    "    A = np.zeros([50, 50], np.int64)\n",
    "    for i in range(50):\n",
    "        for j in range(50):\n",
    "            if i >= j:\n",
    "                A[i, j] = 1\n",
    "            else:\n",
    "                A[i, j] = 0\n",
    "    return A\n",
    "\n",
    "def create_matrix_with_optimized_loops():\n",
    "    A = np.zeros((50, 50), np.int64)\n",
    "    for i in range(50):\n",
    "        A[i, :i+1] = 1\n",
    "\n",
    "def create_matrix_tril():\n",
    "    return np.tril(np.ones((50, 50), dtype=int))\n",
    "\n",
    "# Measure the execution time of the original nested loops implementation\n",
    "time_loops = timeit.timeit(create_matrix_with_loops, number=100000)\n",
    "print(f\"Original nested loops implementation time: {time_loops:.6f} seconds\")\n",
    "\n",
    "# Measure the execution time of the optimized nested loops implementation\n",
    "time_optimized_loops = timeit.timeit(create_matrix_with_optimized_loops, number=100000)\n",
    "print(f\"Optimized nested loops implementation time: {time_optimized_loops:.6f} seconds\")\n",
    "\n",
    "# Measure the execution time of the optimized numpy implementation\n",
    "time_tril = timeit.timeit(create_matrix_tril, number=100000)\n",
    "print(f\"Optimized numpy implementation time: {time_tril:.6f} seconds\")"
   ]
  },
  {
   "cell_type": "code",
   "execution_count": 10,
   "metadata": {},
   "outputs": [
    {
     "data": {
      "text/plain": [
       "array([[1, 0, 0, 0, 0],\n",
       "       [1, 1, 0, 0, 0],\n",
       "       [1, 1, 1, 0, 0],\n",
       "       [1, 1, 1, 1, 0],\n",
       "       [1, 1, 1, 1, 1]])"
      ]
     },
     "execution_count": 10,
     "metadata": {},
     "output_type": "execute_result"
    }
   ],
   "source": [
    "create_matrix_with_loops()"
   ]
  },
  {
   "cell_type": "code",
   "execution_count": 11,
   "metadata": {},
   "outputs": [
    {
     "data": {
      "text/plain": [
       "array([[1, 0, 0, 0, 0],\n",
       "       [1, 1, 0, 0, 0],\n",
       "       [1, 1, 1, 0, 0],\n",
       "       [1, 1, 1, 1, 0],\n",
       "       [1, 1, 1, 1, 1]])"
      ]
     },
     "execution_count": 11,
     "metadata": {},
     "output_type": "execute_result"
    }
   ],
   "source": [
    "create_matrix_with_optimized_loops()"
   ]
  },
  {
   "cell_type": "code",
   "execution_count": 31,
   "metadata": {},
   "outputs": [
    {
     "name": "stdout",
     "output_type": "stream",
     "text": [
      "[ True  True  True False]\n"
     ]
    }
   ],
   "source": [
    "a = np.array([1, 1, 1, 0], dtype=np.bool_)\n",
    "print(a)"
   ]
  },
  {
   "cell_type": "code",
   "execution_count": 32,
   "metadata": {},
   "outputs": [],
   "source": [
    "def symplectic_inner_product(u: np.ndarray, v: np.ndarray) -> int:\n",
    "    \"\"\"Computes the symplectic inner product of vectors u and v over GF(2).\"\"\"\n",
    "    n = len(u) // 2\n",
    "    ux, uz = u[:n], u[n:]\n",
    "    vx, vz = v[:n], v[n:]\n",
    "    return (uz.dot(vx) - ux.dot(vz)) % 2\n",
    "\n",
    "def beta(u: np.ndarray, v: np.ndarray, skip_commutation_check=False) -> int:\n",
    "    n = len(u) // 2\n",
    "\n",
    "    if not skip_commutation_check:\n",
    "        assert symplectic_inner_product(u, v) == 0\n",
    "\n",
    "    ux, uz = u[:n], u[n:]\n",
    "    vx, vz = v[:n], v[n:]\n",
    "\n",
    "    x_terms = (ux + vx) % 2\n",
    "    z_terms = (uz + vz) % 2\n",
    "\n",
    "    u_phase = ux.dot(uz) % 4\n",
    "    v_phase = vx.dot(vz) % 4\n",
    "    combined_phase = x_terms.dot(z_terms) % 4\n",
    "\n",
    "    gamma = (u_phase + v_phase + 2 * uz.dot(vx) - combined_phase) % 4\n",
    "    beta = gamma // 2\n",
    "\n",
    "    return beta"
   ]
  },
  {
   "cell_type": "code",
   "execution_count": 33,
   "metadata": {},
   "outputs": [
    {
     "data": {
      "text/plain": [
       "True"
      ]
     },
     "execution_count": 33,
     "metadata": {},
     "output_type": "execute_result"
    }
   ],
   "source": [
    "a.dot(a)"
   ]
  },
  {
   "cell_type": "code",
   "execution_count": 48,
   "metadata": {},
   "outputs": [
    {
     "name": "stdout",
     "output_type": "stream",
     "text": [
      "[4 6 4 2]\n"
     ]
    }
   ],
   "source": [
    "# create random 4x4 matrix\n",
    "np.random.seed(0)\n",
    "A = np.random.randint(0, 2, size=(4, 4))\n",
    "B = np.random.randint(0, 2, size=(4, 4))\n",
    "\n",
    "b = np.array([1, 1, 1, 0], dtype=np.int8)\n",
    "\n",
    "c = A @ B @ b\n",
    "print(c)"
   ]
  },
  {
   "cell_type": "code",
   "execution_count": 50,
   "metadata": {},
   "outputs": [
    {
     "name": "stdout",
     "output_type": "stream",
     "text": [
      "[4 6]\n"
     ]
    }
   ],
   "source": [
    "print(c[:2])"
   ]
  }
 ],
 "metadata": {
  "kernelspec": {
   "display_name": "Python 3",
   "language": "python",
   "name": "python3"
  },
  "language_info": {
   "codemirror_mode": {
    "name": "ipython",
    "version": 3
   },
   "file_extension": ".py",
   "mimetype": "text/x-python",
   "name": "python",
   "nbconvert_exporter": "python",
   "pygments_lexer": "ipython3",
   "version": "3.12.0"
  }
 },
 "nbformat": 4,
 "nbformat_minor": 2
}
