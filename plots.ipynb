{
 "cells": [
  {
   "cell_type": "code",
   "execution_count": 2,
   "metadata": {},
   "outputs": [],
   "source": [
    "import numpy as np\n",
    "import matplotlib.pyplot as plt"
   ]
  },
  {
   "cell_type": "code",
   "execution_count": null,
   "metadata": {},
   "outputs": [],
   "source": [
    "results = np.load()"
   ]
  },
  {
   "cell_type": "code",
   "execution_count": null,
   "metadata": {},
   "outputs": [],
   "source": [
    "##########################################\n",
    "# Plot results grouped by m values\n",
    "##########################################\n",
    "\n",
    "# Convert results to a numpy array\n",
    "data = np.array(results)\n",
    "# Group data by beta value and then by m groups:\n",
    "k = 4  # number of segments for m grouping\n",
    "groups = {i: [] for i in range(0, k+2)}\n",
    "for beta, n, m, avg_time in results:\n",
    "    if m == 0:\n",
    "        group = 0\n",
    "    elif m == 1:\n",
    "        group = 1\n",
    "    else:\n",
    "        # Determine group based on integer division of n\n",
    "        for r in range(2, k+2):\n",
    "            if m == int(r * n / k):\n",
    "                group = r\n",
    "                break\n",
    "        else:\n",
    "            continue\n",
    "    groups[group].append((n, avg_time))\n",
    "\n",
    "# Sort each group's data by n\n",
    "for key in groups:\n",
    "    groups[key] = np.array(sorted(groups[key], key=lambda x: x[0]))\n",
    "\n",
    "# Define group labels (adjust for k = 4)\n",
    "labels = [\"m = 0\", \"m = 1\", \"m = n/2\", \"m = 3n/4\", \"m = n\", \"Extra\"]\n",
    "\n",
    "plt.figure(figsize=(10, 6))\n",
    "for i in range(k+2):\n",
    "    if groups[i].size > 0:\n",
    "        plt.plot(groups[i][:, 0], groups[i][:, 1], marker='o', label=labels[i])\n",
    "plt.xlabel(\"n (Number of Qubits)\")\n",
    "plt.ylabel(\"Average Time per Measurement (s)\")\n",
    "plt.title(\"CNC Simulation: Average Time vs n (Varying m)\")\n",
    "plt.legend()\n",
    "plt.grid(True)\n",
    "plt.savefig(f\"./figures/cnc_measurement_plot_n_{n_min}_{n_max}_{n_delta}_m_{k}_beta_{beta}.png\", format=\"png\", dpi=300)\n",
    "plt.show()"
   ]
  }
 ],
 "metadata": {
  "kernelspec": {
   "display_name": "env3.10",
   "language": "python",
   "name": "python3"
  },
  "language_info": {
   "codemirror_mode": {
    "name": "ipython",
    "version": 3
   },
   "file_extension": ".py",
   "mimetype": "text/x-python",
   "name": "python",
   "nbconvert_exporter": "python",
   "pygments_lexer": "ipython3",
   "version": "3.10.13"
  }
 },
 "nbformat": 4,
 "nbformat_minor": 2
}
