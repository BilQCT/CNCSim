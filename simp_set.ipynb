{
 "cells": [
  {
   "cell_type": "code",
   "execution_count": 1,
   "id": "3d7bea42-5bf3-4b64-8687-79b79274d67b",
   "metadata": {},
   "outputs": [],
   "source": [
    "from sage.topology.simplicial_set import AbstractSimplex, SimplicialSet"
   ]
  },
  {
   "cell_type": "markdown",
   "id": "595c3b14-f0d1-466d-b05a-05837c82f510",
   "metadata": {},
   "source": [
    "## Isotropic Subspaces"
   ]
  },
  {
   "cell_type": "markdown",
   "id": "f7bc90c2-a2d3-4cde-98a7-af69a72545d5",
   "metadata": {},
   "source": [
    "#### 2 Local operators, 1 Nonlocal operator\n",
    "$$\n",
    "\\newcommand{\\unit}{1\\!\\!1}\n",
    "\\begin{align*}\n",
    "    \\sigma_1 &= \\{X \\otimes \\unit, \\unit \\otimes X, X \\otimes X\\} \\\\\n",
    "    \\sigma_2 &= \\{X \\otimes \\unit, \\unit \\otimes Y, X \\otimes Y\\} \\\\\n",
    "    \\sigma_3 &= \\{X \\otimes \\unit, \\unit \\otimes Z, X \\otimes Z\\} \\\\\n",
    "    \\sigma_4 &= \\{Y \\otimes \\unit, \\unit \\otimes X, Y \\otimes X\\} \\\\\n",
    "    \\sigma_5 &= \\{Y \\otimes \\unit, \\unit \\otimes Y, Y \\otimes Y\\} \\\\\n",
    "    \\sigma_6 &= \\{Y \\otimes \\unit, \\unit \\otimes Z, Y \\otimes Z\\} \\\\\n",
    "    \\sigma_7 &= \\{Z \\otimes \\unit, \\unit \\otimes X, Z \\otimes X\\} \\\\\n",
    "    \\sigma_8 &= \\{Z \\otimes \\unit, \\unit \\otimes Y, Z \\otimes Y\\} \\\\\n",
    "    \\sigma_9 &= \\{Z \\otimes \\unit, \\unit \\otimes Z, Z \\otimes Z\\}\n",
    "\\end{align*}\n",
    "$$\n",
    "\n",
    "#### 3 Nonlocal operators\n",
    "\\begin{align*}\n",
    "    \\sigma_{10} &= \\{Y \\otimes Y, Z \\otimes Z, X \\otimes X\\} \\\\\n",
    "    \\sigma_{11} &= \\{Y \\otimes Z, Z \\otimes Y, X \\otimes X\\} \\\\\n",
    "    \\sigma_{12} &= \\{X \\otimes Z, Z \\otimes X, Y \\otimes Y\\} \\\\\n",
    "    \\sigma_{13} &= \\{X \\otimes Y, Y \\otimes X, Z \\otimes Z\\} \\\\\n",
    "    \\sigma_{14} &= \\{Y \\otimes Z, Z \\otimes X, X \\otimes Y\\} \\\\\n",
    "    \\sigma_{15} &= \\{Y \\otimes X, Z \\otimes Y, X \\otimes Z\\}\n",
    "\\end{align*}"
   ]
  },
  {
   "cell_type": "code",
   "execution_count": 2,
   "id": "f339a376-f651-441e-b1c7-79c3f0b55a3f",
   "metadata": {},
   "outputs": [],
   "source": [
    "# data is a dictionary that stores the non-degenerate simplices and their faces as a key-value pair\n",
    "# 0-simplices can be omitted if they are faces of other simplices\n",
    "data = {}\n",
    "\n",
    "v = AbstractSimplex(0, name=\"v\")\n",
    "\n",
    "# Local operators\n",
    "iden_x = AbstractSimplex(1, name=\"iden_x\", latex_name=\"iden_x\")\n",
    "data[iden_x] = (v, v)\n",
    "\n",
    "iden_y = AbstractSimplex(1, name=\"iden_y\", latex_name=\"iden_y\")\n",
    "data[iden_y] = (v, v)\n",
    "\n",
    "iden_z = AbstractSimplex(1, name=\"iden_z\", latex_name=\"iden_z\")\n",
    "data[iden_z] = (v, v)\n",
    "\n",
    "x_iden = AbstractSimplex(1, name=\"x_iden\", latex_name=\"x_iden\")\n",
    "data[x_iden] = (v, v)\n",
    "\n",
    "y_iden = AbstractSimplex(1, name=\"y_iden\", latex_name=\"y_iden\")\n",
    "data[y_iden] = (v, v)\n",
    "\n",
    "z_iden = AbstractSimplex(1, name=\"z_iden\", latex_name=\"z_iden\")\n",
    "data[z_iden] = (v, v)\n",
    "\n",
    "\n",
    "# Nonlocal operators\n",
    "x_x =  AbstractSimplex(1, name=\"x_x\", latex_name=\"x_x\")\n",
    "data[x_x] = (v, v)\n",
    "\n",
    "x_y =  AbstractSimplex(1, name=\"x_y\", latex_name=\"x_y\")\n",
    "data[x_y] = (v, v)\n",
    "\n",
    "x_z =  AbstractSimplex(1, name=\"x_z\", latex_name=\"x_z\")\n",
    "data[x_z] = (v, v)\n",
    "\n",
    "y_x =  AbstractSimplex(1, name=\"y_x\", latex_name=\"y_x\")\n",
    "data[y_x] = (v, v)\n",
    "\n",
    "y_y =  AbstractSimplex(1, name=\"y_y\", latex_name=\"y_y\")\n",
    "data[y_y] = (v, v)\n",
    "\n",
    "y_z =  AbstractSimplex(1, name=\"y_z\", latex_name=\"y_z\")\n",
    "data[y_z] = (v, v)\n",
    "\n",
    "z_x =  AbstractSimplex(1, name=\"z_x\", latex_name=\"z_x\")\n",
    "data[z_x] = (v, v)\n",
    "\n",
    "z_y =  AbstractSimplex(1, name=\"z_y\", latex_name=\"z_y\")\n",
    "data[z_y] = (v, v)\n",
    "\n",
    "z_z =  AbstractSimplex(1, name=\"z_z\", latex_name=\"z_z\")\n",
    "data[z_z] = (v, v)\n",
    "\n",
    "\n",
    "# 2 Local operators, 1 nonlocal operator\n",
    "sigma_1 = AbstractSimplex(2, name=\"sigma_1\", latex_name=\"sigma_1\")\n",
    "data[sigma_1] = (iden_x, x_x, x_iden)\n",
    "\n",
    "sigma_2 = AbstractSimplex(2, name=\"sigma_2\", latex_name=\"sigma_2\")\n",
    "data[sigma_2] = (iden_y, x_y, x_iden)\n",
    "\n",
    "sigma_3 = AbstractSimplex(2, name=\"sigma_3\", latex_name=\"sigma_3\")\n",
    "data[sigma_3] = (iden_z, x_z, x_iden)\n",
    "\n",
    "sigma_4 = AbstractSimplex(2, name=\"sigma_4\", latex_name=\"sigma_4\")\n",
    "data[sigma_4] = (y_iden, y_x, iden_x)\n",
    "\n",
    "sigma_5 = AbstractSimplex(2, name=\"sigma_5\", latex_name=\"sigma_5\")\n",
    "data[sigma_5] = (y_iden, y_y, iden_y)\n",
    "\n",
    "sigma_6 = AbstractSimplex(2, name=\"sigma_6\", latex_name=\"sigma_6\")\n",
    "data[sigma_6] = (iden_z, y_z, y_iden)\n",
    "\n",
    "sigma_7 = AbstractSimplex(2, name=\"sigma_7\", latex_name=\"sigma_7\")\n",
    "data[sigma_7] = (z_iden, z_x, iden_x)\n",
    "\n",
    "sigma_8 = AbstractSimplex(2, name=\"sigma_8\", latex_name=\"sigma_8\")\n",
    "data[sigma_8] = (z_iden, z_y, iden_y)\n",
    "\n",
    "sigma_9 = AbstractSimplex(2, name=\"sigma_9\", latex_name=\"sigma_9\")\n",
    "data[sigma_9] = (z_iden, z_z, iden_z)\n",
    "\n",
    "# 3 nonlocal operators\n",
    "sigma_10 = AbstractSimplex(2, name=\"sigma_10\", latex_name=\"sigma_10\")\n",
    "data[sigma_10] = (y_y, x_x, z_z)\n",
    "\n",
    "sigma_11 = AbstractSimplex(2, name=\"sigma_11\", latex_name=\"sigma_11\")\n",
    "data[sigma_11] = (z_y, x_x, y_z)\n",
    "\n",
    "sigma_12 = AbstractSimplex(2, name=\"sigma_12\", latex_name=\"sigma_12\")\n",
    "data[sigma_12] = (z_x, y_y, x_z)\n",
    "\n",
    "sigma_13 = AbstractSimplex(2, name=\"sigma_13\", latex_name=\"sigma_13\")\n",
    "data[sigma_13] = (y_x, z_z, x_y)\n",
    "\n",
    "sigma_14 = AbstractSimplex(2, name=\"sigma_14\", latex_name=\"sigma_14\")\n",
    "data[sigma_14] = (z_x, y_z, x_y)\n",
    "\n",
    "sigma_15 = AbstractSimplex(2, name=\"sigma_15\", latex_name=\"sigma_15\")\n",
    "data[sigma_15] = (x_z, z_y, y_x)\n",
    "\n",
    "simp_set = SimplicialSet(data=data)"
   ]
  },
  {
   "cell_type": "code",
   "execution_count": 3,
   "id": "4aaeb8db-ebef-4cb5-b5f2-0bf4bb753bef",
   "metadata": {},
   "outputs": [
    {
     "data": {
      "image/png": "[encoded data removed]",
      "text/plain": [
       "Looped multi-graph on 1 vertex"
      ]
     },
     "execution_count": 3,
     "metadata": {},
     "output_type": "execute_result"
    }
   ],
   "source": [
    "simp_set.graph()"
   ]
  },
  {
   "cell_type": "markdown",
   "id": "a275933b-7954-4d6f-b3d7-2cbf259d12d4",
   "metadata": {},
   "source": [
    "Check that we have the correct number of n-simplices"
   ]
  },
  {
   "cell_type": "code",
   "execution_count": 4,
   "id": "0de245ed-a7a1-4a51-80a5-ccf20d1bf0b1",
   "metadata": {},
   "outputs": [
    {
     "name": "stdout",
     "output_type": "stream",
     "text": [
      "Number of 0-simplices is 1\n",
      "Number of 1-simplices is 15\n",
      "Number of 2-simplices is 15\n"
     ]
    }
   ],
   "source": [
    "for d in range(simp_set.dimension() + 1):\n",
    "    print(f\"Number of {d}-simplices is {len(simp_set.n_cells(d))}\")"
   ]
  },
  {
   "cell_type": "markdown",
   "id": "c304842a-5407-4b0b-81ad-4de459b5be0f",
   "metadata": {},
   "source": [
    "Find the homologies"
   ]
  },
  {
   "cell_type": "code",
   "execution_count": 5,
   "id": "0db17c12-5cc8-40da-85a5-46a110e660d5",
   "metadata": {},
   "outputs": [],
   "source": [
    "homology = simp_set.homology(reduced=False, generators=False, base_ring=GF(2))"
   ]
  },
  {
   "cell_type": "code",
   "execution_count": 6,
   "id": "a058ab4f-f150-4fa1-a1fc-ef08e38bc45e",
   "metadata": {},
   "outputs": [
    {
     "data": {
      "text/plain": [
       "{0: Vector space of dimension 1 over Finite Field of size 2,\n",
       " 1: Vector space of dimension 5 over Finite Field of size 2,\n",
       " 2: Vector space of dimension 5 over Finite Field of size 2}"
      ]
     },
     "execution_count": 6,
     "metadata": {},
     "output_type": "execute_result"
    }
   ],
   "source": [
    "homology"
   ]
  },
  {
   "cell_type": "markdown",
   "id": "3ae60a62-cfe7-4a71-9363-582f3b63fb0e",
   "metadata": {},
   "source": [
    "#### Note about the current implementation of Sage Math: \n",
    "Right now, homology calculations will only work if the base ring is either `ZZ or a field, so please take this into account when defining a chain complex."
   ]
  },
  {
   "cell_type": "code",
   "execution_count": 7,
   "id": "fcc77863-29be-4084-8cc6-8bea69593ec3",
   "metadata": {},
   "outputs": [],
   "source": [
    "h2_gens = simp_set.homology(reduced=False, generators=True, base_ring=GF(2))[2]"
   ]
  },
  {
   "cell_type": "code",
   "execution_count": 8,
   "id": "e5373890-0fd6-4d5f-8152-68dc5e698b97",
   "metadata": {},
   "outputs": [
    {
     "name": "stdout",
     "output_type": "stream",
     "text": [
      "(Vector space of dimension 1 over Finite Field of size 2, sigma_1 + sigma_11 + sigma_15 + sigma_3 + sigma_4 + sigma_6)\n",
      "(Vector space of dimension 1 over Finite Field of size 2, sigma_10 + sigma_11 + sigma_5 + sigma_6 + sigma_8 + sigma_9)\n",
      "(Vector space of dimension 1 over Finite Field of size 2, sigma_12 + sigma_15 + sigma_4 + sigma_5 + sigma_7 + sigma_8)\n",
      "(Vector space of dimension 1 over Finite Field of size 2, sigma_13 + sigma_15 + sigma_2 + sigma_3 + sigma_8 + sigma_9)\n",
      "(Vector space of dimension 1 over Finite Field of size 2, sigma_14 + sigma_15 + sigma_2 + sigma_3 + sigma_4 + sigma_6 + sigma_7 + sigma_8)\n"
     ]
    }
   ],
   "source": [
    "for generator in h2_gens:\n",
    "    print(generator)"
   ]
  },
  {
   "cell_type": "code",
   "execution_count": 9,
   "id": "880295df-ac0d-4d21-99a6-73bef34f63a1",
   "metadata": {},
   "outputs": [
    {
     "name": "stdout",
     "output_type": "stream",
     "text": [
      "Finite family {(0, 0): h_{0,0}, (1, 0): h_{1,0}, (1, 1): h_{1,1}, (1, 2): h_{1,2}, (1, 3): h_{1,3}, (1, 4): h_{1,4}, (2, 0): h_{2,0}, (2, 1): h_{2,1}, (2, 2): h_{2,2}, (2, 3): h_{2,3}, (2, 4): h_{2,4}}\n",
      "sigma_10 + sigma_11 + sigma_12 + sigma_13 + sigma_14 + sigma_15\n"
     ]
    }
   ],
   "source": [
    "simp_homology =  simp_set.homology_with_basis(GF(2))\n",
    "simp_homology_basis = simp_homology.basis()\n",
    "print(simp_homology_basis)\n",
    "print(simp_homology_basis[(2,0)].to_cycle())"
   ]
  },
  {
   "cell_type": "markdown",
   "id": "f2f4daa1-bed3-43f8-9839-4f46374bde6f",
   "metadata": {},
   "source": [
    "## 10 Mermin Tori"
   ]
  },
  {
   "cell_type": "code",
   "execution_count": 10,
   "id": "6a09d9e4-cc4f-4053-ab7b-bd2b7c05449f",
   "metadata": {},
   "outputs": [],
   "source": [
    "mermin_1 = SimplicialSet(data={\n",
    "        sigma_1: (iden_x, x_x, x_iden),\n",
    "        sigma_2: (iden_y, x_y, x_iden),\n",
    "        sigma_13: (y_x, z_z, x_y),\n",
    "        sigma_4: (y_iden, y_x, iden_x),\n",
    "        sigma_5: (y_iden, y_y, iden_y),\n",
    "        sigma_10: (y_y, x_x, z_z),\n",
    "        iden_x: (v,v),\n",
    "        x_iden: (v,v),\n",
    "        x_x: (v,v),\n",
    "        iden_y: (v,v),\n",
    "        y_iden: (v,v),\n",
    "        y_y: (v,v),\n",
    "        x_y: (v,v),\n",
    "        y_x: (v,v),\n",
    "        z_z: (v,v)\n",
    "    })"
   ]
  },
  {
   "cell_type": "code",
   "execution_count": 11,
   "id": "20570eee-74e2-45f9-b388-8c1d19bee2e3",
   "metadata": {},
   "outputs": [],
   "source": [
    "mermin_2 = SimplicialSet(data={\n",
    "        sigma_1: (iden_x, x_x, x_iden),\n",
    "        sigma_3: (iden_z, x_z, x_iden),\n",
    "        sigma_12: (z_x, y_y, x_z),\n",
    "        sigma_7: (z_iden, z_x, iden_x),\n",
    "        sigma_9: (z_iden, z_z, iden_z),\n",
    "        sigma_10: (y_y, x_x, z_z),\n",
    "        iden_x: (v,v),\n",
    "        x_iden: (v,v),\n",
    "        x_x: (v,v),\n",
    "        iden_z: (v,v),\n",
    "        z_iden: (v,v),\n",
    "        z_z: (v,v),\n",
    "        x_z: (v,v),\n",
    "        z_x: (v,v),\n",
    "        y_y: (v,v)\n",
    "    })"
   ]
  },
  {
   "cell_type": "code",
   "execution_count": 12,
   "id": "ead7d5e0-3f11-45a1-a429-f282f74ccd44",
   "metadata": {},
   "outputs": [],
   "source": [
    "mermin_3 = SimplicialSet(data={\n",
    "        sigma_5: (y_iden, y_y, iden_y),\n",
    "        sigma_6: (iden_z, y_z, y_iden),\n",
    "        sigma_11: (z_y, x_x, y_z),\n",
    "        sigma_8: (z_iden, z_y, iden_y),\n",
    "        sigma_9: (z_iden, z_z, iden_z),\n",
    "        sigma_10: (y_y, x_x, z_z),\n",
    "        iden_y: (v,v),\n",
    "        y_iden: (v,v),\n",
    "        y_y: (v,v),\n",
    "        iden_z: (v,v),\n",
    "        z_iden: (v,v),\n",
    "        z_z: (v,v),\n",
    "        y_z: (v,v),\n",
    "        z_y: (v,v),\n",
    "        x_x: (v,v)\n",
    "    })"
   ]
  },
  {
   "cell_type": "code",
   "execution_count": 13,
   "id": "5939c1ab-8084-4a43-a2b2-2e206189b93c",
   "metadata": {},
   "outputs": [],
   "source": [
    "mermin_4 = SimplicialSet(data={\n",
    "        sigma_3: (iden_z, x_z, x_iden),\n",
    "        sigma_2: (iden_y, x_y, x_iden),\n",
    "        sigma_13: (y_x, z_z, x_y),\n",
    "        sigma_9: (z_iden, z_z, iden_z),\n",
    "        sigma_8: (z_iden, z_y, iden_y),\n",
    "        sigma_15: (x_z, z_y, y_x),\n",
    "        iden_z: (v,v),\n",
    "        x_iden: (v,v),\n",
    "        x_z: (v,v),\n",
    "        iden_y: (v,v),\n",
    "        x_y: (v,v),\n",
    "        z_z: (v,v),\n",
    "        y_x: (v,v),\n",
    "        z_y: (v,v),\n",
    "        z_iden: (v,v)\n",
    "    })"
   ]
  },
  {
   "cell_type": "code",
   "execution_count": 14,
   "id": "25c29541-14d1-4ecc-8d06-3522d5485e23",
   "metadata": {},
   "outputs": [],
   "source": [
    "mermin_5 = SimplicialSet(data={\n",
    "        sigma_4: (y_iden, y_x, iden_x),\n",
    "        sigma_7: (z_iden, z_x, iden_x),\n",
    "        sigma_12: (z_x, y_y, x_z),\n",
    "        sigma_5: (y_iden, y_y, iden_y),\n",
    "        sigma_8: (z_iden, z_y, iden_y),\n",
    "        sigma_15: (x_z, z_y, y_x),\n",
    "        iden_x: (v,v),\n",
    "        y_iden: (v,v),\n",
    "        y_x: (v,v),\n",
    "        z_iden: (v,v),\n",
    "        z_x: (v,v),\n",
    "        iden_y: (v,v),\n",
    "        y_y: (v,v),\n",
    "        z_y: (v,v),\n",
    "        x_z: (v,v)\n",
    "    })"
   ]
  },
  {
   "cell_type": "code",
   "execution_count": 15,
   "id": "8abfbdf4-538a-40a6-935f-339ef3642371",
   "metadata": {},
   "outputs": [],
   "source": [
    "mermin_6 = SimplicialSet(data={\n",
    "        sigma_2: (iden_y, x_y, x_iden),\n",
    "        sigma_3: (iden_z, x_z, x_iden),\n",
    "        sigma_12: (z_x, y_y, x_z),\n",
    "        sigma_5: (y_iden, y_y, iden_y),\n",
    "        sigma_6: (iden_z, y_z, y_iden),\n",
    "        sigma_14: (z_x, y_z, x_y),\n",
    "        iden_y: (v,v),\n",
    "        x_iden: (v,v),\n",
    "        x_y: (v,v),\n",
    "        iden_z: (v,v),\n",
    "        x_z: (v,v),\n",
    "        y_iden: (v,v),\n",
    "        y_y: (v,v),\n",
    "        y_z: (v,v),\n",
    "        z_x: (v,v)\n",
    "    })"
   ]
  },
  {
   "cell_type": "code",
   "execution_count": 16,
   "id": "828d9f15-09cb-434e-a53e-5aeafcfef751",
   "metadata": {},
   "outputs": [],
   "source": [
    "mermin_7 = SimplicialSet(data={\n",
    "        sigma_1: (iden_x, x_x, x_iden),\n",
    "        sigma_2: (iden_y, x_y, x_iden),\n",
    "        sigma_7: (z_iden, z_x, iden_x),\n",
    "        sigma_11: (z_y, x_x, y_z),\n",
    "        sigma_8: (z_iden, z_y, iden_y),\n",
    "        sigma_14: (z_x, y_z, x_y),\n",
    "        x_iden: (v,v),\n",
    "        iden_x: (v,v),\n",
    "        x_x: (v,v),\n",
    "        iden_y: (v,v),\n",
    "        z_iden: (v,v),\n",
    "        z_y: (v,v),\n",
    "        x_y: (v,v),\n",
    "        z_x: (v,v),\n",
    "        y_z: (v,v)\n",
    "    })"
   ]
  },
  {
   "cell_type": "code",
   "execution_count": 17,
   "id": "8ae658e3-66c1-4e7b-8f42-c2721da85f93",
   "metadata": {},
   "outputs": [],
   "source": [
    "mermin_8 = SimplicialSet(data={\n",
    "        sigma_1: (iden_x, x_x, x_iden),\n",
    "        sigma_3: (iden_z, x_z, x_iden),\n",
    "        sigma_4: (y_iden, y_x, iden_x),\n",
    "        sigma_6: (iden_z, y_z, y_iden),\n",
    "        sigma_11: (z_y, x_x, y_z),\n",
    "        sigma_15: (x_z, z_y, y_x),\n",
    "        x_iden: (v,v),\n",
    "        iden_x: (v,v),\n",
    "        x_x: (v,v),\n",
    "        iden_z: (v,v),\n",
    "        y_iden: (v,v),\n",
    "        y_z: (v,v),\n",
    "        x_z: (v,v),\n",
    "        y_x: (v,v),\n",
    "        z_y: (v,v)\n",
    "    })"
   ]
  },
  {
   "cell_type": "code",
   "execution_count": 18,
   "id": "f736ec83-6a2f-4550-b3e2-9702e02b1838",
   "metadata": {},
   "outputs": [],
   "source": [
    "mermin_9 = SimplicialSet(data={\n",
    "        sigma_9: (z_iden, z_z, iden_z),\n",
    "        sigma_7: (z_iden, z_x, iden_x),\n",
    "        sigma_6: (iden_z, y_z, y_iden),\n",
    "        sigma_4: (y_iden, y_x, iden_x),\n",
    "        sigma_14: (z_x, y_z, x_y),\n",
    "        sigma_13: (y_x, z_z, x_y),\n",
    "        z_iden: (v,v),\n",
    "        iden_z: (v,v),\n",
    "        z_z: (v,v),\n",
    "        iden_x: (v,v),\n",
    "        y_iden: (v,v),\n",
    "        y_x: (v,v),\n",
    "        z_x: (v,v),\n",
    "        y_z: (v,v),\n",
    "        x_y: (v,v)\n",
    "    })"
   ]
  },
  {
   "cell_type": "code",
   "execution_count": 19,
   "id": "a05844a6-a4ca-43de-9f66-39ed319e021b",
   "metadata": {},
   "outputs": [],
   "source": [
    "mermin_10 = SimplicialSet(data={\n",
    "        sigma_14: (z_x, y_z, x_y),\n",
    "        sigma_13: (y_x, z_z, x_y),\n",
    "        sigma_10: (y_y, x_x, z_z),\n",
    "        sigma_12: (z_x, y_y, x_z),\n",
    "        sigma_15: (x_z, z_y, y_x),\n",
    "        sigma_11: (z_y, x_x, y_z),\n",
    "        x_x: (v,v),\n",
    "        y_y: (v,v),\n",
    "        z_z: (v,v),\n",
    "        x_y: (v,v),\n",
    "        y_x: (v,v),\n",
    "        x_z: (v,v),\n",
    "        z_x: (v,v),\n",
    "        y_z: (v,v),\n",
    "        z_y: (v,v)\n",
    "    })"
   ]
  },
  {
   "cell_type": "code",
   "execution_count": 20,
   "id": "cf2dc632-5998-4064-9d20-41a4805a3ddf",
   "metadata": {
    "scrolled": true
   },
   "outputs": [],
   "source": [
    "H = Hom(mermin_1, simp_set)\n",
    "domain_cells = H.domain().cells()\n",
    "domain_map = {d_simplex:d_simplex for d in domain_cells for d_simplex in domain_cells[d]}\n",
    "f = H(domain_map) \n",
    "f_star = f.induced_homology_morphism(GF(2))"
   ]
  },
  {
   "cell_type": "code",
   "execution_count": 21,
   "id": "244246e0-e757-4b1a-9c90-884428588f18",
   "metadata": {},
   "outputs": [],
   "source": [
    "m1_h =  mermin_1.homology_with_basis(GF(2))"
   ]
  },
  {
   "cell_type": "code",
   "execution_count": 22,
   "id": "89dc1d2e-1628-462e-81cb-55ee71634402",
   "metadata": {},
   "outputs": [
    {
     "data": {
      "text/plain": [
       "Homology module of Simplicial set with 16 non-degenerate simplices over Finite Field of size 2"
      ]
     },
     "execution_count": 22,
     "metadata": {},
     "output_type": "execute_result"
    }
   ],
   "source": [
    "m1_h"
   ]
  },
  {
   "cell_type": "code",
   "execution_count": 23,
   "id": "aa270b35-5339-4b9b-a5a7-abaee4f4a790",
   "metadata": {},
   "outputs": [
    {
     "data": {
      "text/plain": [
       "Finite family {(0, 0): h_{0,0}, (1, 0): h_{1,0}, (1, 1): h_{1,1}, (1, 2): h_{1,2}, (1, 3): h_{1,3}, (2, 0): h_{2,0}}"
      ]
     },
     "execution_count": 23,
     "metadata": {},
     "output_type": "execute_result"
    }
   ],
   "source": [
    "m1_h.basis()"
   ]
  },
  {
   "cell_type": "code",
   "execution_count": 24,
   "id": "b489109c-7801-4b5a-b4b6-9bce8785e3b7",
   "metadata": {},
   "outputs": [],
   "source": [
    "m1_h2_basis = m1_h.basis()[(2,0)]"
   ]
  },
  {
   "cell_type": "code",
   "execution_count": 25,
   "id": "be9f1f54-f69c-45dd-a13e-22c66234040d",
   "metadata": {},
   "outputs": [
    {
     "data": {
      "text/plain": [
       "h_{2,1}"
      ]
     },
     "execution_count": 25,
     "metadata": {},
     "output_type": "execute_result"
    }
   ],
   "source": [
    "f_star(m1_h2_basis)"
   ]
  },
  {
   "cell_type": "code",
   "execution_count": 26,
   "id": "6989e0de-6db7-4e58-b44e-8a37763876c1",
   "metadata": {},
   "outputs": [
    {
     "name": "stdout",
     "output_type": "stream",
     "text": [
      "[h_{2,1},\n",
      " h_{2,4},\n",
      " h_{2,1} + h_{2,2} + h_{2,3} + h_{2,4},\n",
      " h_{2,0} + h_{2,3} + h_{2,4},\n",
      " h_{2,0} + h_{2,1} + h_{2,3},\n",
      " h_{2,1} + h_{2,2},\n",
      " h_{2,3},\n",
      " h_{2,0} + h_{2,2},\n",
      " h_{2,2} + h_{2,4},\n",
      " h_{2,0}]\n"
     ]
    }
   ],
   "source": [
    "from pprint import pprint\n",
    "basis = []\n",
    "mermins = [mermin_1, mermin_2, mermin_3, mermin_4, mermin_5, mermin_6,mermin_7, mermin_8, mermin_9, mermin_10]\n",
    "for mermin in mermins:\n",
    "    H = Hom(mermin, simp_set)\n",
    "    domain_cells = H.domain().cells()\n",
    "    domain_map = {d_simplex:d_simplex for d in domain_cells for d_simplex in domain_cells[d]}\n",
    "    f = H(domain_map)\n",
    "    f_star = f.induced_homology_morphism(GF(2))\n",
    "    m_h =  mermin.homology_with_basis(GF(2))\n",
    "    m_h2_basis = m_h.basis()[(2,0)]\n",
    "    basis.append(f_star(m_h2_basis))\n",
    "pprint(basis)"
   ]
  },
  {
   "cell_type": "code",
   "execution_count": null,
   "id": "376a695a-d210-44ae-a5f3-9d40b5902069",
   "metadata": {},
   "outputs": [],
   "source": []
  }
 ],
 "metadata": {
  "kernelspec": {
   "display_name": "SageMath 10.1",
   "language": "sage",
   "name": "sagemath-10.1"
  },
  "language_info": {
   "codemirror_mode": {
    "name": "ipython",
    "version": 3
   },
   "file_extension": ".py",
   "mimetype": "text/x-python",
   "name": "python",
   "nbconvert_exporter": "python",
   "pygments_lexer": "ipython3",
   "version": "3.11.1"
  }
 },
 "nbformat": 4,
 "nbformat_minor": 5
}
