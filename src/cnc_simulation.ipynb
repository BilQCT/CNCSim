{
 "cells": [
  {
   "cell_type": "code",
   "execution_count": 1,
   "metadata": {},
   "outputs": [],
   "source": [
    "from cnc import CNC, simulate_from_distribution\n",
    "from utils import Pauli, qutip_simuation\n",
    "from vertex_decomposition import find_vertex_decomposition, find_cnc_vertex_decomposition"
   ]
  },
  {
   "cell_type": "markdown",
   "metadata": {},
   "source": [
    "#### Simulation Example"
   ]
  },
  {
   "cell_type": "code",
   "execution_count": 2,
   "metadata": {},
   "outputs": [],
   "source": [
    "num_simulations = 2048\n",
    "cnc_set = { Pauli(\"II\"),\n",
    "    Pauli(\"IZ\"),\n",
    "    Pauli(\"ZI\"),\n",
    "    Pauli(\"ZZ\"),\n",
    "    Pauli(\"YI\"),\n",
    "    Pauli(\"YZ\"),\n",
    "    Pauli(\"XI\"),\n",
    "    Pauli(\"XZ\"),\n",
    "}\n",
    "\n",
    "value_assignment1 = {pauli: 0 for pauli in cnc_set}\n",
    "\n",
    "cnc_1  = CNC(value_assignment1)\n",
    "\n",
    "value_assignment2 = {\n",
    "    Pauli(\"II\"): 0,\n",
    "    Pauli(\"IZ\"): 0,\n",
    "    Pauli(\"ZI\"): 0,\n",
    "    Pauli(\"ZZ\"): 0,\n",
    "    Pauli(\"YI\"): 1,\n",
    "    Pauli(\"YZ\"): 1,\n",
    "    Pauli(\"XI\"): 1,\n",
    "    Pauli(\"XZ\"): 1,\n",
    "}\n",
    "\n",
    "cnc3 = CNC({\n",
    "    Pauli(\"II\"): 0,\n",
    "    Pauli(\"IZ\"): 0,\n",
    "    Pauli(\"ZI\"): 0,\n",
    "    Pauli(\"ZZ\"): 0,\n",
    "})\n",
    "\n",
    "cnc_2 = CNC(value_assignment2)\n",
    "\n",
    "measurements = [\n",
    "    Pauli(\"YY\"),\n",
    "    Pauli(\"ZI\"),\n",
    "]\n",
    "\n",
    "distribution = {cnc3: 1}\n",
    "\n",
    "counts_cnc = simulate_from_distribution(\n",
    "    distribution, measurements, num_simulations\n",
    ")"
   ]
  },
  {
   "cell_type": "code",
   "execution_count": 3,
   "metadata": {},
   "outputs": [
    {
     "data": {
      "text/plain": [
       "{'00': 542, '01': 512, '10': 489, '11': 505}"
      ]
     },
     "execution_count": 3,
     "metadata": {},
     "output_type": "execute_result"
    }
   ],
   "source": [
    "counts_cnc"
   ]
  },
  {
   "cell_type": "code",
   "execution_count": 4,
   "metadata": {},
   "outputs": [],
   "source": [
    "from qutip import Qobj, identity, sigmaz, sigmay, tensor\n",
    "\n",
    "II = tensor(identity(2), identity(2))\n",
    "ZI = tensor(sigmaz(), identity(2))\n",
    "IZ = tensor(identity(2), sigmaz())\n",
    "ZZ = tensor(sigmaz(), sigmaz())\n",
    "YY = tensor(sigmay(), sigmay())\n",
    "\n",
    "rho = 1 / 4 * (II + ZI + IZ + ZZ)\n",
    "\n",
    "measurements = [YY, ZI]\n",
    "\n",
    "num_simulations = 2048\n",
    "counts_qutip = qutip_simuation(rho, measurements, num_simulations)"
   ]
  },
  {
   "cell_type": "code",
   "execution_count": 5,
   "metadata": {},
   "outputs": [
    {
     "data": {
      "text/plain": [
       "{'00': 479, '01': 516, '10': 533, '11': 520}"
      ]
     },
     "execution_count": 5,
     "metadata": {},
     "output_type": "execute_result"
    }
   ],
   "source": [
    "counts_qutip"
   ]
  },
  {
   "cell_type": "markdown",
   "metadata": {},
   "source": [
    "#### Finding initial distribution"
   ]
  },
  {
   "cell_type": "code",
   "execution_count": 6,
   "metadata": {},
   "outputs": [],
   "source": [
    "from utils import load_all_maximal_cncs_matrix\n",
    "\n",
    "all_cncs_2 = load_all_maximal_cncs_matrix(2)\n",
    "all_cncs_3 = load_all_maximal_cncs_matrix(3)"
   ]
  },
  {
   "cell_type": "code",
   "execution_count": 7,
   "metadata": {},
   "outputs": [
    {
     "data": {
      "text/plain": [
       "(16, 492)"
      ]
     },
     "execution_count": 7,
     "metadata": {},
     "output_type": "execute_result"
    }
   ],
   "source": [
    "all_cncs_2.shape"
   ]
  },
  {
   "cell_type": "code",
   "execution_count": 8,
   "metadata": {},
   "outputs": [
    {
     "data": {
      "text/plain": [
       "array([[ 1,  1,  1, ...,  1,  1,  1],\n",
       "       [ 0, -1,  0, ...,  1,  0,  0],\n",
       "       [ 0,  0,  0, ...,  0,  0, -1],\n",
       "       ...,\n",
       "       [-1,  0,  0, ...,  0, -1, -1],\n",
       "       [-1,  1,  0, ...,  0,  0,  0],\n",
       "       [ 0, -1,  0, ...,  0,  0, -1]])"
      ]
     },
     "execution_count": 8,
     "metadata": {},
     "output_type": "execute_result"
    }
   ],
   "source": [
    "all_cncs_2"
   ]
  },
  {
   "cell_type": "code",
   "execution_count": 9,
   "metadata": {},
   "outputs": [
    {
     "data": {
      "text/plain": [
       "(64, 72216)"
      ]
     },
     "execution_count": 9,
     "metadata": {},
     "output_type": "execute_result"
    }
   ],
   "source": [
    "all_cncs_3.shape"
   ]
  },
  {
   "cell_type": "markdown",
   "metadata": {},
   "source": [
    "Check whether pauli basis representation functions work as intended."
   ]
  },
  {
   "cell_type": "code",
   "execution_count": 10,
   "metadata": {},
   "outputs": [
    {
     "name": "stdout",
     "output_type": "stream",
     "text": [
      "[ 1  0  0 -1  0 -1  1  0 -1  0  0  1  0 -1 -1  0]\n",
      "{Pauli Operator: II: 0, Pauli Operator: IZ: 1, Pauli Operator: XX: 1, Pauli Operator: XY: 0, Pauli Operator: YI: 1, Pauli Operator: YZ: 0, Pauli Operator: ZX: 1, Pauli Operator: ZY: 1}\n"
     ]
    },
    {
     "data": {
      "text/plain": [
       "array([ 1,  0,  0, -1,  0, -1,  1,  0, -1,  0,  0,  1,  0, -1, -1,  0])"
      ]
     },
     "execution_count": 10,
     "metadata": {},
     "output_type": "execute_result"
    }
   ],
   "source": [
    "print(all_cncs_2[:, 0])\n",
    "cnc = CNC.from_pauli_basis_representation(all_cncs_2[:, 0])\n",
    "print(cnc.gamma)\n",
    "cnc.get_pauli_basis_representation()"
   ]
  },
  {
   "cell_type": "code",
   "execution_count": 11,
   "metadata": {},
   "outputs": [],
   "source": [
    "import numpy as np\n",
    "initial_state = np.zeros(16)\n",
    "initial_state[0] = 1"
   ]
  },
  {
   "cell_type": "markdown",
   "metadata": {},
   "source": [
    "Find initial distribution"
   ]
  },
  {
   "cell_type": "code",
   "execution_count": 12,
   "metadata": {},
   "outputs": [],
   "source": [
    "is_convex, distribution = find_vertex_decomposition(initial_state, all_cncs_2)"
   ]
  },
  {
   "cell_type": "code",
   "execution_count": 13,
   "metadata": {},
   "outputs": [
    {
     "data": {
      "text/plain": [
       "True"
      ]
     },
     "execution_count": 13,
     "metadata": {},
     "output_type": "execute_result"
    }
   ],
   "source": [
    "is_convex"
   ]
  },
  {
   "cell_type": "code",
   "execution_count": 14,
   "metadata": {},
   "outputs": [
    {
     "name": "stdout",
     "output_type": "stream",
     "text": [
      "DecompositionElement(operator=array([1, 0, 0, 0, 0, 1, 0, 0, 0, 0, 0, 1, 0, 0, 1, 0]), probability=0.0633803)\n",
      "DecompositionElement(operator=array([ 1,  0,  0,  0,  0,  1,  0,  0,  0,  0, -1,  0,  0,  0,  0,  1]), probability=0.084507)\n",
      "DecompositionElement(operator=array([ 1,  0,  0,  0,  0,  0,  0,  1,  0,  0, -1,  0,  0, -1,  0,  0]), probability=0.0704225)\n",
      "DecompositionElement(operator=array([ 1,  0, -1,  0,  0,  0,  0,  0,  0,  0,  0,  0,  1,  0, -1,  0]), probability=0.0915493)\n",
      "DecompositionElement(operator=array([ 1,  0, -1,  0,  0,  0,  0,  0,  1,  0, -1,  0,  0,  0,  0,  0]), probability=0.00704225)\n",
      "DecompositionElement(operator=array([ 1,  0,  0, -1,  1,  0,  0, -1,  0,  0,  0,  0,  0,  0,  0,  0]), probability=0.161972)\n",
      "DecompositionElement(operator=array([1, 0, 1, 0, 0, 0, 0, 0, 0, 0, 0, 0, 1, 0, 1, 0]), probability=0.0774648)\n",
      "DecompositionElement(operator=array([ 1,  0,  0,  0,  0,  0,  0,  1,  0, -1,  0,  0,  0,  0,  1,  0]), probability=0.0492958)\n",
      "DecompositionElement(operator=array([ 1, -1,  1,  1,  0,  0,  0,  0,  0,  0,  0,  0, -1,  1, -1, -1]), probability=0.0422535)\n",
      "DecompositionElement(operator=array([ 1, -1, -1,  1,  0,  0,  0,  0, -1,  1,  1, -1,  0,  0,  0,  0]), probability=0.0774648)\n",
      "DecompositionElement(operator=array([ 1,  0,  1,  0,  0, -1,  0, -1,  0, -1,  0,  1, -1,  0, -1,  0]), probability=0.0140845)\n",
      "DecompositionElement(operator=array([ 1,  0,  0,  1,  0,  1,  1,  0,  0, -1,  1,  0, -1,  0,  0, -1]), probability=0.0140845)\n",
      "DecompositionElement(operator=array([ 1,  0,  1,  0, -1,  0, -1,  0,  1,  0,  1,  0, -1,  0, -1,  0]), probability=0.0422535)\n",
      "DecompositionElement(operator=array([ 1,  0,  0,  1,  1,  0,  0,  1,  1,  0,  0,  1, -1,  0,  0, -1]), probability=0.028169)\n",
      "DecompositionElement(operator=array([ 1, -1,  0,  0,  0,  0,  1,  1,  0,  0,  1, -1, -1,  1,  0,  0]), probability=0.028169)\n",
      "DecompositionElement(operator=array([ 1,  1,  0,  0, -1, -1,  0,  0,  0,  0,  0,  0,  0,  0,  0,  0]), probability=0.147887)\n"
     ]
    }
   ],
   "source": [
    "for decomp_element in distribution:\n",
    "    print(decomp_element)"
   ]
  },
  {
   "cell_type": "code",
   "execution_count": 15,
   "metadata": {},
   "outputs": [
    {
     "data": {
      "text/plain": [
       "array([ 9.9999975e-01, -3.0000000e-07, -5.0000000e-08, -2.0000000e-07,\n",
       "        5.0000000e-07,  3.0000000e-07,  0.0000000e+00, -2.0000000e-07,\n",
       "       -5.0000000e-08,  0.0000000e+00,  5.0000000e-08,  0.0000000e+00,\n",
       "        1.0000000e-07,  0.0000000e+00,  1.0000000e-07,  0.0000000e+00])"
      ]
     },
     "execution_count": 15,
     "metadata": {},
     "output_type": "execute_result"
    }
   ],
   "source": [
    "result_vec = np.zeros(16)\n",
    "for i, decomp_element in enumerate(distribution):\n",
    "    op = decomp_element.operator\n",
    "    prob = decomp_element.probability\n",
    "    result_vec += prob * op\n",
    "\n",
    "result_vec"
   ]
  },
  {
   "cell_type": "code",
   "execution_count": 16,
   "metadata": {},
   "outputs": [],
   "source": [
    "is_convex, distribution = find_cnc_vertex_decomposition(initial_state)"
   ]
  },
  {
   "cell_type": "code",
   "execution_count": 17,
   "metadata": {},
   "outputs": [
    {
     "name": "stdout",
     "output_type": "stream",
     "text": [
      "CNC 0: with probability 0.0633803\n",
      "Pauli Operator: II: 0\n",
      "Pauli Operator: XX: 0\n",
      "Pauli Operator: YZ: 0\n",
      "Pauli Operator: ZY: 0\n",
      "CNC 1: with probability 0.084507\n",
      "Pauli Operator: II: 0\n",
      "Pauli Operator: XX: 0\n",
      "Pauli Operator: YY: 1\n",
      "Pauli Operator: ZZ: 0\n",
      "CNC 2: with probability 0.0704225\n",
      "Pauli Operator: II: 0\n",
      "Pauli Operator: XZ: 0\n",
      "Pauli Operator: YY: 1\n",
      "Pauli Operator: ZX: 1\n",
      "CNC 3: with probability 0.0915493\n",
      "Pauli Operator: II: 0\n",
      "Pauli Operator: IY: 1\n",
      "Pauli Operator: ZI: 0\n",
      "Pauli Operator: ZY: 1\n",
      "CNC 4: with probability 0.00704225\n",
      "Pauli Operator: II: 0\n",
      "Pauli Operator: IY: 1\n",
      "Pauli Operator: YI: 0\n",
      "Pauli Operator: YY: 1\n",
      "CNC 5: with probability 0.161972\n",
      "Pauli Operator: II: 0\n",
      "Pauli Operator: IZ: 1\n",
      "Pauli Operator: XI: 0\n",
      "Pauli Operator: XZ: 1\n",
      "CNC 6: with probability 0.0774648\n",
      "Pauli Operator: II: 0\n",
      "Pauli Operator: IY: 0\n",
      "Pauli Operator: ZI: 0\n",
      "Pauli Operator: ZY: 0\n",
      "CNC 7: with probability 0.0492958\n",
      "Pauli Operator: II: 0\n",
      "Pauli Operator: XZ: 0\n",
      "Pauli Operator: YX: 1\n",
      "Pauli Operator: ZY: 0\n",
      "CNC 8: with probability 0.0422535\n",
      "Pauli Operator: II: 0\n",
      "Pauli Operator: IX: 1\n",
      "Pauli Operator: IY: 0\n",
      "Pauli Operator: IZ: 0\n",
      "Pauli Operator: ZI: 1\n",
      "Pauli Operator: ZX: 0\n",
      "Pauli Operator: ZY: 1\n",
      "Pauli Operator: ZZ: 1\n",
      "CNC 9: with probability 0.0774648\n",
      "Pauli Operator: II: 0\n",
      "Pauli Operator: IX: 1\n",
      "Pauli Operator: IY: 1\n",
      "Pauli Operator: IZ: 0\n",
      "Pauli Operator: YI: 1\n",
      "Pauli Operator: YX: 0\n",
      "Pauli Operator: YY: 0\n",
      "Pauli Operator: YZ: 1\n",
      "CNC 10: with probability 0.0140845\n",
      "Pauli Operator: II: 0\n",
      "Pauli Operator: IY: 0\n",
      "Pauli Operator: XX: 1\n",
      "Pauli Operator: XZ: 1\n",
      "Pauli Operator: YX: 1\n",
      "Pauli Operator: YZ: 0\n",
      "Pauli Operator: ZI: 1\n",
      "Pauli Operator: ZY: 1\n",
      "CNC 11: with probability 0.0140845\n",
      "Pauli Operator: II: 0\n",
      "Pauli Operator: IZ: 0\n",
      "Pauli Operator: XX: 0\n",
      "Pauli Operator: XY: 0\n",
      "Pauli Operator: YX: 1\n",
      "Pauli Operator: YY: 0\n",
      "Pauli Operator: ZI: 1\n",
      "Pauli Operator: ZZ: 1\n",
      "CNC 12: with probability 0.0422535\n",
      "Pauli Operator: II: 0\n",
      "Pauli Operator: IY: 0\n",
      "Pauli Operator: XI: 1\n",
      "Pauli Operator: XY: 1\n",
      "Pauli Operator: YI: 0\n",
      "Pauli Operator: YY: 0\n",
      "Pauli Operator: ZI: 1\n",
      "Pauli Operator: ZY: 1\n",
      "CNC 13: with probability 0.028169\n",
      "Pauli Operator: II: 0\n",
      "Pauli Operator: IZ: 0\n",
      "Pauli Operator: XI: 0\n",
      "Pauli Operator: XZ: 0\n",
      "Pauli Operator: YI: 0\n",
      "Pauli Operator: YZ: 0\n",
      "Pauli Operator: ZI: 1\n",
      "Pauli Operator: ZZ: 1\n",
      "CNC 14: with probability 0.028169\n",
      "Pauli Operator: II: 0\n",
      "Pauli Operator: IX: 1\n",
      "Pauli Operator: XY: 0\n",
      "Pauli Operator: XZ: 0\n",
      "Pauli Operator: YY: 0\n",
      "Pauli Operator: YZ: 1\n",
      "Pauli Operator: ZI: 1\n",
      "Pauli Operator: ZX: 0\n",
      "CNC 15: with probability 0.147887\n",
      "Pauli Operator: II: 0\n",
      "Pauli Operator: IX: 0\n",
      "Pauli Operator: XI: 1\n",
      "Pauli Operator: XX: 1\n"
     ]
    }
   ],
   "source": [
    "for i, decomp_element in enumerate(distribution):\n",
    "    cnc = decomp_element.operator\n",
    "    prob = decomp_element.probability\n",
    "    print(f\"CNC {i}: with probability {prob}\")\n",
    "    for pauli, value in cnc.gamma.items():\n",
    "        print(f\"{pauli}: {value}\")"
   ]
  },
  {
   "cell_type": "code",
   "execution_count": null,
   "metadata": {},
   "outputs": [],
   "source": []
  }
 ],
 "metadata": {
  "kernelspec": {
   "display_name": "base",
   "language": "python",
   "name": "python3"
  },
  "language_info": {
   "codemirror_mode": {
    "name": "ipython",
    "version": 3
   },
   "file_extension": ".py",
   "mimetype": "text/x-python",
   "name": "python",
   "nbconvert_exporter": "python",
   "pygments_lexer": "ipython3",
   "version": "3.11.5"
  }
 },
 "nbformat": 4,
 "nbformat_minor": 2
}
