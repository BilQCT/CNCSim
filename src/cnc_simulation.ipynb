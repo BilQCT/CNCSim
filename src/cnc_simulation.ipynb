{
 "cells": [
  {
   "cell_type": "code",
   "execution_count": 1,
   "metadata": {},
   "outputs": [],
   "source": [
    "from cnc import CNC, simulate_from_distribution\n",
    "from utils import Pauli, qutip_simuation"
   ]
  },
  {
   "cell_type": "code",
   "execution_count": 2,
   "metadata": {},
   "outputs": [],
   "source": [
    "num_simulations = 2048\n",
    "cnc_set = { Pauli(\"II\"),\n",
    "    Pauli(\"IZ\"),\n",
    "    Pauli(\"ZI\"),\n",
    "    Pauli(\"ZZ\"),\n",
    "    Pauli(\"YI\"),\n",
    "    Pauli(\"YZ\"),\n",
    "    Pauli(\"XI\"),\n",
    "    Pauli(\"XZ\"),\n",
    "}\n",
    "\n",
    "value_assignment1 = {pauli: 0 for pauli in cnc_set}\n",
    "\n",
    "cnc_1  = CNC(value_assignment1)\n",
    "\n",
    "value_assignment2 = {\n",
    "    Pauli(\"II\"): 0,\n",
    "    Pauli(\"IZ\"): 0,\n",
    "    Pauli(\"ZI\"): 0,\n",
    "    Pauli(\"ZZ\"): 0,\n",
    "    Pauli(\"YI\"): 1,\n",
    "    Pauli(\"YZ\"): 1,\n",
    "    Pauli(\"XI\"): 1,\n",
    "    Pauli(\"XZ\"): 1,\n",
    "}\n",
    "\n",
    "cnc3 = CNC({\n",
    "    Pauli(\"II\"): 0,\n",
    "    Pauli(\"IZ\"): 0,\n",
    "    Pauli(\"ZI\"): 0,\n",
    "    Pauli(\"ZZ\"): 0,\n",
    "})\n",
    "\n",
    "cnc_2 = CNC(value_assignment2)\n",
    "\n",
    "measurements = [\n",
    "    Pauli(\"YY\"),\n",
    "    Pauli(\"ZI\"),\n",
    "]\n",
    "\n",
    "distribution = {cnc3: 1}\n",
    "\n",
    "counts_cnc = simulate_from_distribution(\n",
    "    distribution, measurements, num_simulations\n",
    ")"
   ]
  },
  {
   "cell_type": "code",
   "execution_count": 3,
   "metadata": {},
   "outputs": [
    {
     "data": {
      "text/plain": [
       "{'00': 499, '01': 510, '10': 491, '11': 548}"
      ]
     },
     "execution_count": 3,
     "metadata": {},
     "output_type": "execute_result"
    }
   ],
   "source": [
    "counts_cnc"
   ]
  },
  {
   "cell_type": "code",
   "execution_count": 4,
   "metadata": {},
   "outputs": [],
   "source": [
    "from qutip import Qobj, identity, sigmaz, sigmay, tensor\n",
    "\n",
    "II = tensor(identity(2), identity(2))\n",
    "ZI = tensor(sigmaz(), identity(2))\n",
    "IZ = tensor(identity(2), sigmaz())\n",
    "ZZ = tensor(sigmaz(), sigmaz())\n",
    "YY = tensor(sigmay(), sigmay())\n",
    "\n",
    "rho = 1 / 4 * (II + ZI + IZ + ZZ)\n",
    "\n",
    "measurements = [YY, ZI]\n",
    "\n",
    "num_simulations = 2048\n",
    "counts_qutip = qutip_simuation(rho, measurements, num_simulations)"
   ]
  },
  {
   "cell_type": "code",
   "execution_count": 5,
   "metadata": {},
   "outputs": [
    {
     "data": {
      "text/plain": [
       "{'00': 483, '01': 514, '10': 517, '11': 534}"
      ]
     },
     "execution_count": 5,
     "metadata": {},
     "output_type": "execute_result"
    }
   ],
   "source": [
    "counts_qutip"
   ]
  },
  {
   "cell_type": "code",
   "execution_count": 18,
   "metadata": {},
   "outputs": [],
   "source": [
    "import h5py\n",
    "\n",
    "# Open the HDF5 file\n",
    "with h5py.File('../cnc_matrices/cnc_matrix_2.h5', 'r') as file:\n",
    "    # Read the dataset\n",
    "    read_data = file['cnc_matrix_2'][:]"
   ]
  },
  {
   "cell_type": "code",
   "execution_count": 21,
   "metadata": {},
   "outputs": [
    {
     "data": {
      "text/plain": [
       "numpy.ndarray"
      ]
     },
     "execution_count": 21,
     "metadata": {},
     "output_type": "execute_result"
    }
   ],
   "source": [
    "type(read_data)"
   ]
  },
  {
   "cell_type": "code",
   "execution_count": 22,
   "metadata": {},
   "outputs": [
    {
     "data": {
      "text/plain": [
       "(492, 16)"
      ]
     },
     "execution_count": 22,
     "metadata": {},
     "output_type": "execute_result"
    }
   ],
   "source": [
    "read_data.shape"
   ]
  },
  {
   "cell_type": "code",
   "execution_count": null,
   "metadata": {},
   "outputs": [],
   "source": []
  }
 ],
 "metadata": {
  "kernelspec": {
   "display_name": "base",
   "language": "python",
   "name": "python3"
  },
  "language_info": {
   "codemirror_mode": {
    "name": "ipython",
    "version": 3
   },
   "file_extension": ".py",
   "mimetype": "text/x-python",
   "name": "python",
   "nbconvert_exporter": "python",
   "pygments_lexer": "ipython3",
   "version": "3.11.5"
  }
 },
 "nbformat": 4,
 "nbformat_minor": 2
}
