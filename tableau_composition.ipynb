{
 "cells": [
  {
   "cell_type": "code",
   "execution_count": 82,
   "metadata": {},
   "outputs": [],
   "source": [
    "import numpy as np\n",
    "from src import tableau_helper_functions as helper\n",
    "from src import updated_cnc_tableau as cnc"
   ]
  },
  {
   "cell_type": "code",
   "execution_count": 83,
   "metadata": {},
   "outputs": [],
   "source": [
    "data1 = np.load(\"./keys/cnc_tableau_keys_4.npy\",allow_pickle=True)\n",
    "data2 = np.load(\"./keys/stab_tableau_keys_4.npy\",allow_pickle=True)"
   ]
  },
  {
   "cell_type": "code",
   "execution_count": 86,
   "metadata": {},
   "outputs": [],
   "source": [
    "# first tableau:\n",
    "tableau1 = data1[0][1]\n",
    "n1 = data1[0][2]\n",
    "m1 = data1[0][3]\n",
    "\n",
    "# second tableau:\n",
    "tableau2 = data2[0][1]\n",
    "n2 = data2[0][2]\n",
    "m2 = data2[0][3]"
   ]
  },
  {
   "cell_type": "code",
   "execution_count": 87,
   "metadata": {},
   "outputs": [
    {
     "data": {
      "text/plain": [
       "0"
      ]
     },
     "execution_count": 87,
     "metadata": {},
     "output_type": "execute_result"
    }
   ],
   "source": [
    "m2"
   ]
  },
  {
   "cell_type": "code",
   "execution_count": 88,
   "metadata": {},
   "outputs": [
    {
     "data": {
      "text/plain": [
       "array([[1, 1, 0, 1, 1, 0, 1, 0, 0],\n",
       "       [0, 0, 0, 1, 1, 0, 0, 1, 0],\n",
       "       [0, 1, 0, 1, 1, 0, 0, 1, 0],\n",
       "       [0, 1, 1, 0, 0, 0, 1, 0, 0],\n",
       "       [0, 1, 1, 1, 0, 1, 0, 0, 0],\n",
       "       [1, 0, 0, 1, 0, 1, 1, 0, 0],\n",
       "       [1, 1, 0, 0, 0, 0, 0, 1, 1],\n",
       "       [0, 0, 1, 1, 0, 0, 1, 1, 0],\n",
       "       [1, 1, 1, 1, 0, 0, 1, 0, 0]], dtype=object)"
      ]
     },
     "execution_count": 88,
     "metadata": {},
     "output_type": "execute_result"
    }
   ],
   "source": [
    "tableau1"
   ]
  },
  {
   "cell_type": "code",
   "execution_count": 101,
   "metadata": {},
   "outputs": [
    {
     "data": {
      "text/plain": [
       "array([[0, 0, 0, 0, 0, 0, 1, 0, 0],\n",
       "       [0, 0, 0, 0, 0, 1, 0, 0, 0],\n",
       "       [0, 0, 0, 1, 0, 0, 0, 0, 0],\n",
       "       [1, 0, 0, 0, 0, 0, 0, 0, 0],\n",
       "       [0, 0, 1, 0, 0, 0, 0, 0, 0],\n",
       "       [0, 1, 0, 0, 0, 0, 0, 0, 0],\n",
       "       [1, 0, 0, 1, 0, 0, 0, 1, 1],\n",
       "       [1, 0, 0, 1, 1, 0, 0, 0, 1]], dtype=object)"
      ]
     },
     "execution_count": 101,
     "metadata": {},
     "output_type": "execute_result"
    }
   ],
   "source": [
    "tableau2"
   ]
  },
  {
   "cell_type": "code",
   "execution_count": 112,
   "metadata": {},
   "outputs": [
    {
     "data": {
      "text/plain": [
       "CNC Simulator with n=4, m=0\n",
       "Destabilizers: <IIZI, IZII, IIIX, XIII>\n",
       "Stabilizers: <IIXI, IXII, -XIIY, -YIIX>\n",
       "JW Elements: IIII"
      ]
     },
     "execution_count": 112,
     "metadata": {},
     "output_type": "execute_result"
    }
   ],
   "source": [
    "cnc.CncSimulator.from_tableau(4,0,np.concatenate((tableau2,np.zeros((1,tableau2.shape[1]),dtype=np.int64)),axis=0))"
   ]
  },
  {
   "cell_type": "code",
   "execution_count": 115,
   "metadata": {},
   "outputs": [],
   "source": [
    "T = np.array([1,1/np.sqrt(2),1/np.sqrt(2),0])"
   ]
  },
  {
   "cell_type": "code",
   "execution_count": 120,
   "metadata": {},
   "outputs": [
    {
     "data": {
      "text/plain": [
       "True"
      ]
     },
     "execution_count": 120,
     "metadata": {},
     "output_type": "execute_result"
    }
   ],
   "source": [
    "np.all(T == T)"
   ]
  },
  {
   "cell_type": "code",
   "execution_count": 90,
   "metadata": {},
   "outputs": [],
   "source": [
    "tableau22 = helper.compose_tableaus(tableau2,tableau2,m2,m2)"
   ]
  },
  {
   "cell_type": "code",
   "execution_count": 113,
   "metadata": {},
   "outputs": [
    {
     "data": {
      "text/plain": [
       "CNC Simulator with n=8, m=0\n",
       "Destabilizers: <IIIIIIZI, IIIIIZII, IIIIIIIX, IIIIXIII, IIZIIIII, IZIIIIII, IIIXIIII, XIIIIIII>\n",
       "Stabilizers: <IIIIIIXI, IIIIIXII, -IIIIXIIY, -IIIIYIIX, IIXIIIII, IXIIIIII, -XIIYIIII, -YIIXIIII>\n",
       "JW Elements: IIIIIIII"
      ]
     },
     "execution_count": 113,
     "metadata": {},
     "output_type": "execute_result"
    }
   ],
   "source": [
    "cnc.CncSimulator.from_tableau(8,0,np.concatenate((tableau22,np.zeros((1,tableau22.shape[1]),dtype=np.int64)),axis=0))"
   ]
  },
  {
   "cell_type": "code",
   "execution_count": 8,
   "metadata": {},
   "outputs": [],
   "source": [
    "tableau21 = helper.compose_tableaus(tableau2,tableau1,m2,m1)"
   ]
  },
  {
   "cell_type": "code",
   "execution_count": 10,
   "metadata": {},
   "outputs": [
    {
     "data": {
      "text/plain": [
       "True"
      ]
     },
     "execution_count": 10,
     "metadata": {},
     "output_type": "execute_result"
    }
   ],
   "source": [
    "# check for input cnc:\n",
    "cnc_tableau = cnc.CncSimulator.from_tableau(n1,m1,tableau1)\n",
    "cnc_tableau.is_cnc(n1,m1,tableau1)"
   ]
  },
  {
   "cell_type": "code",
   "execution_count": 11,
   "metadata": {},
   "outputs": [
    {
     "data": {
      "text/plain": [
       "True"
      ]
     },
     "execution_count": 11,
     "metadata": {},
     "output_type": "execute_result"
    }
   ],
   "source": [
    "# check for input cnc tensored with stab:\n",
    "cnc_tableau = cnc.CncSimulator.from_tableau(n1+n2,m1,tableau21)\n",
    "cnc_tableau.is_cnc(n1+n2,m1,tableau21)"
   ]
  },
  {
   "cell_type": "code",
   "execution_count": 12,
   "metadata": {},
   "outputs": [],
   "source": [
    "tableau12 = helper.compose_tableaus(tableau1,tableau2,m1,m2)"
   ]
  },
  {
   "cell_type": "code",
   "execution_count": 14,
   "metadata": {},
   "outputs": [
    {
     "data": {
      "text/plain": [
       "array([[0, 0, 0, 0, 0, 0, 0, 0, 0, 0, 0, 0, 0, 0, 1, 0, 0],\n",
       "       [0, 0, 0, 0, 0, 0, 0, 0, 0, 0, 0, 0, 0, 1, 0, 0, 0],\n",
       "       [0, 0, 0, 0, 0, 0, 0, 1, 0, 0, 0, 0, 0, 0, 0, 0, 0],\n",
       "       [0, 0, 0, 0, 1, 0, 0, 0, 0, 0, 0, 0, 0, 0, 0, 0, 0],\n",
       "       [0, 0, 1, 1, 0, 0, 0, 0, 1, 0, 1, 1, 0, 0, 0, 0, 0],\n",
       "       [0, 1, 1, 1, 0, 0, 0, 0, 1, 0, 1, 1, 0, 0, 0, 0, 0],\n",
       "       [0, 0, 1, 0, 0, 0, 0, 0, 0, 0, 0, 1, 0, 0, 0, 0, 0],\n",
       "       [0, 0, 0, 0, 0, 0, 1, 0, 0, 0, 0, 0, 0, 0, 0, 0, 0],\n",
       "       [0, 0, 0, 0, 0, 1, 0, 0, 0, 0, 0, 0, 0, 0, 0, 0, 0],\n",
       "       [0, 0, 0, 0, 1, 0, 0, 1, 0, 0, 0, 0, 0, 0, 0, 1, 1],\n",
       "       [0, 0, 0, 0, 1, 0, 0, 1, 0, 0, 0, 0, 1, 0, 0, 0, 1],\n",
       "       [1, 0, 0, 1, 0, 0, 0, 0, 0, 1, 1, 0, 0, 0, 0, 0, 0],\n",
       "       [0, 0, 0, 1, 0, 0, 0, 0, 0, 1, 1, 0, 0, 0, 0, 0, 0],\n",
       "       [0, 1, 1, 0, 0, 0, 0, 0, 0, 0, 1, 0, 0, 0, 0, 0, 0],\n",
       "       [1, 1, 1, 1, 0, 0, 0, 0, 0, 0, 1, 0, 0, 0, 0, 0, 0],\n",
       "       [1, 1, 0, 0, 0, 0, 0, 0, 0, 0, 0, 1, 0, 0, 0, 0, 1],\n",
       "       [0, 0, 1, 1, 0, 0, 0, 0, 0, 0, 1, 1, 0, 0, 0, 0, 0]])"
      ]
     },
     "execution_count": 14,
     "metadata": {},
     "output_type": "execute_result"
    }
   ],
   "source": [
    "tableau12"
   ]
  },
  {
   "cell_type": "code",
   "execution_count": 13,
   "metadata": {},
   "outputs": [
    {
     "data": {
      "text/plain": [
       "True"
      ]
     },
     "execution_count": 13,
     "metadata": {},
     "output_type": "execute_result"
    }
   ],
   "source": [
    "# check for input cnc tensored with stab:\n",
    "cnc_tableau = cnc.CncSimulator.from_tableau(n1+n2,m1,tableau21)\n",
    "cnc_tableau.is_cnc(n1+n2,m1,tableau21)"
   ]
  },
  {
   "cell_type": "code",
   "execution_count": 15,
   "metadata": {},
   "outputs": [],
   "source": [
    "cnc_tableaus = np.load(\"./keys/cnc_tableau_keys_4.npy\",allow_pickle=True)\n",
    "stab_tableaus = np.load(\"./keys/stab_tableau_keys_4.npy\",allow_pickle=True)"
   ]
  },
  {
   "cell_type": "code",
   "execution_count": 34,
   "metadata": {},
   "outputs": [],
   "source": [
    "data = np.load(\"./keys/keys_n_5.npy\",allow_pickle=True)"
   ]
  },
  {
   "cell_type": "code",
   "execution_count": 80,
   "metadata": {},
   "outputs": [],
   "source": [
    "n = 1\n",
    "data = np.load(f\"./keys/stab_tableau_keys_{n}.npy\",allow_pickle=True)"
   ]
  },
  {
   "cell_type": "code",
   "execution_count": 81,
   "metadata": {},
   "outputs": [
    {
     "name": "stdout",
     "output_type": "stream",
     "text": [
      "Quasiprobaiblity weight: -0.20710678118654746\n",
      "Tableau:\n",
      "[[1 0 0]\n",
      " [1 1 1]\n",
      " [0 0 0]] \n",
      "\n",
      "CNC object:\n",
      "CNC Simulator with n=1, m=0\n",
      "Destabilizers: <Z>\n",
      "Stabilizers: <X>\n",
      "JW Elements: I \n",
      "\n",
      "Quasiprobaiblity weight: 0.7071067811865475\n",
      "Tableau:\n",
      "[[0 1 0]\n",
      " [1 0 0]\n",
      " [0 0 0]] \n",
      "\n",
      "CNC object:\n",
      "CNC Simulator with n=1, m=0\n",
      "Destabilizers: <Z>\n",
      "Stabilizers: <X>\n",
      "JW Elements: I \n",
      "\n",
      "Quasiprobaiblity weight: 0.5\n",
      "Tableau:\n",
      "[[1 0 0]\n",
      " [1 1 0]\n",
      " [0 0 0]] \n",
      "\n",
      "CNC object:\n",
      "CNC Simulator with n=1, m=0\n",
      "Destabilizers: <Z>\n",
      "Stabilizers: <X>\n",
      "JW Elements: I \n",
      "\n"
     ]
    }
   ],
   "source": [
    "for i in range(len(data)):\n",
    "    zeros = np.zeros((1,data[i][1].shape[1]),np.int64)\n",
    "    tableau = np.concatenate((data[i][1],zeros),axis = 0)\n",
    "\n",
    "    print(f\"Quasiprobaiblity weight: {data[i][0]}\")\n",
    "    print(f\"Tableau:\\n{tableau}\",\"\\n\")\n",
    "    print(f\"CNC object:\\n{cnc.CncSimulator(data[i][2],data[i][3],tableau)}\",\"\\n\")"
   ]
  },
  {
   "cell_type": "code",
   "execution_count": 26,
   "metadata": {},
   "outputs": [],
   "source": [
    "filename = \"./keys/all_stab_keys_4.h5\"\n",
    "n = 2\n",
    "\n",
    "with h5py.File(filename, \"r\") as f:\n",
    "        key = f\"n={n}\"\n",
    "        data = np.array(list(f[key]))"
   ]
  },
  {
   "cell_type": "code",
   "execution_count": null,
   "metadata": {},
   "outputs": [],
   "source": []
  }
 ],
 "metadata": {
  "kernelspec": {
   "display_name": "env3.10",
   "language": "python",
   "name": "python3"
  },
  "language_info": {
   "codemirror_mode": {
    "name": "ipython",
    "version": 3
   },
   "file_extension": ".py",
   "mimetype": "text/x-python",
   "name": "python",
   "nbconvert_exporter": "python",
   "pygments_lexer": "ipython3",
   "version": "3.10.13"
  }
 },
 "nbformat": 4,
 "nbformat_minor": 2
}
